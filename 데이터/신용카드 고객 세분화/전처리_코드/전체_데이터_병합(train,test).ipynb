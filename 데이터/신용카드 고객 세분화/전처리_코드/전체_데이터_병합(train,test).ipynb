{
 "cells": [
  {
   "cell_type": "code",
   "execution_count": null,
   "id": "73d9edfe",
   "metadata": {},
   "outputs": [],
   "source": [
    "import pandas as pd\n",
    "import gc\n",
    "\n",
    "# df1 = pd.read_parquet('1.회원정보_train.parquet')\n",
    "# df2 = pd.read_parquet('2.신용정보_train.parquet')\n",
    "# df3 = pd.read_parquet('3.승인매출정보_train.parquet')\n",
    "# df4 = pd.read_parquet('4.청구입금정보_train.parquet')\n",
    "# df5 = pd.read_parquet('5.잔액정보_train.parquet')\n",
    "# df6 = pd.read_parquet('6.채널정보_train.parquet')\n",
    "# df7 = pd.read_parquet('7.마케팅정보_train.parquet')\n",
    "# df8 = pd.read_parquet('8.성과정보_train.parquet')\n",
    "\n",
    "# df1 = pd.read_parquet('1.회원정보_test.parquet')\n",
    "# df2 = pd.read_parquet('2.신용정보_test.parquet')\n",
    "# df3 = pd.read_parquet('3.승인매출정보_test.parquet')\n",
    "# df4 = pd.read_parquet('4.청구입금정보_test.parquet')\n",
    "# df5 = pd.read_parquet('5.잔액정보_test.parquet')\n",
    "# df6 = pd.read_parquet('6.채널정보_test.parquet')\n",
    "# df7 = pd.read_parquet('7.마켓팅정보_test.parquet')\n",
    "# df8 = pd.read_parquet('8.성과정보_test.parquet')\n",
    "    \n",
    "dfs = [df2, df3, df4, df5, df6, df7, df8]\n",
    "del df2\n",
    "del df3\n",
    "del df4\n",
    "del df5\n",
    "del df6\n",
    "del df7\n",
    "del df8\n",
    "gc.collect()\n",
    "\n",
    "result = df1.copy()\n",
    "for df in dfs:\n",
    "    result = pd.merge(result, df, on=['ID', '기준년월'], how='left')"
   ]
  },
  {
   "cell_type": "code",
   "execution_count": null,
   "id": "cd14a9aa",
   "metadata": {},
   "outputs": [],
   "source": [
    "df1.shape"
   ]
  }
 ],
 "metadata": {
  "language_info": {
   "name": "python"
  }
 },
 "nbformat": 4,
 "nbformat_minor": 5
}
