{
 "cells": [
  {
   "cell_type": "code",
   "execution_count": 61,
   "id": "884fda02",
   "metadata": {},
   "outputs": [],
   "source": [
    "# ✅ Stage 1~3 전체 확률 기반 파이프라인 (CatBoost + Threshold 최적화)\n",
    "\n",
    "from sklearn.metrics import precision_recall_curve, f1_score\n",
    "from sklearn.model_selection import StratifiedKFold\n",
    "import numpy as np\n",
    "import pandas as pd\n",
    "from catboost import CatBoostClassifier\n",
    "from sklearn.preprocessing import LabelEncoder\n",
    "# -------------------------------\n",
    "# 🔧 Stage별 Threshold 찾기 함수\n",
    "# -------------------------------\n",
    "def find_best_threshold(y_true, y_prob):\n",
    "    precision, recall, thresholds = precision_recall_curve(y_true, y_prob)\n",
    "    f1s = 2 * precision * recall / (precision + recall + 1e-8)\n",
    "    best_idx = np.argmax(f1s)\n",
    "    return thresholds[best_idx]\n",
    "\n",
    "# -------------------------------\n",
    "# 🧠 Stage 1: E vs Not E\n",
    "# -------------------------------\n",
    "def predict_stage1(models1, X_all, threshold1):\n",
    "    probs1 = np.mean([model.predict_proba(X_all) for model in models1], axis=0)\n",
    "    e_probs = probs1[:, 1]  # E 클래스 확률\n",
    "    pred1 = (e_probs > threshold1).astype(int)\n",
    "    return pred1, e_probs\n",
    "\n",
    "# -------------------------------\n",
    "# 🧠 Stage 2: C / D / CD_Others\n",
    "# -------------------------------\n",
    "def predict_stage2(models2, X_step2):\n",
    "    probs2 = np.mean([model.predict_proba(X_step2) for model in models2], axis=0)\n",
    "    pred2 = np.argmax(probs2, axis=1)  # 가장 확률 높은 클래스로 분류\n",
    "    return pred2, probs2\n",
    "\n",
    "# -------------------------------\n",
    "# 🧠 Stage 3: A vs B\n",
    "# -------------------------------\n",
    "def predict_stage3(models3, X_step3, threshold3):\n",
    "    probs3 = np.mean([model.predict_proba(X_step3) for model in models3], axis=0)\n",
    "    pred3 = (probs3[:, 1] > threshold3).astype(int)\n",
    "    return pred3, probs3\n",
    "\n",
    "# -------------------------------\n",
    "# 🚀 Full Prediction Pipeline\n",
    "# -------------------------------\n",
    "def full_pipeline(models1, models2, models3, X_all, threshold1, threshold3):\n",
    "    # Stage 1\n",
    "    pred1, probs1 = predict_stage1(models1, X_all, threshold1)\n",
    "    idx_pred_E = np.where(pred1 == 1)[0]\n",
    "    idx_not_E = np.where(pred1 == 0)[0]\n",
    "\n",
    "    # Stage 2\n",
    "    X_step2 = X_all.iloc[idx_not_E]\n",
    "    pred2, probs2 = predict_stage2(models2, X_step2)\n",
    "    \n",
    "    idx_pred_C = idx_not_E[np.where(pred2 == 0)[0]]\n",
    "    idx_pred_D = idx_not_E[np.where(pred2 == 1)[0]]\n",
    "    idx_pred_CD_Others = idx_not_E[np.where(pred2 == 2)[0]]\n",
    "\n",
    "    # Stage 3\n",
    "    X_step3 = X_all.iloc[idx_pred_CD_Others]\n",
    "    pred3, probs3 = predict_stage3(models3, X_step3, threshold3)\n",
    "\n",
    "    idx_pred_A = idx_pred_CD_Others[np.where(pred3 == 0)[0]]\n",
    "    idx_pred_B = idx_pred_CD_Others[np.where(pred3 == 1)[0]]\n",
    "\n",
    "    # --------------------\n",
    "    # 🧾 최종 결과 병합\n",
    "    # --------------------\n",
    "    final_preds = pd.Series(index=X_all.index, dtype='object')\n",
    "    final_preds.loc[idx_pred_E] = 'E'\n",
    "    final_preds.loc[idx_pred_C] = 'C'\n",
    "    final_preds.loc[idx_pred_D] = 'D'\n",
    "    final_preds.loc[idx_pred_A] = 'A'\n",
    "    final_preds.loc[idx_pred_B] = 'B'\n",
    "\n",
    "    return final_preds, {\n",
    "        'stage1_probs': probs1,\n",
    "        'stage2_probs': probs2,\n",
    "        'stage3_probs': probs3,\n",
    "    }\n",
    "\n",
    "def run_catboost_binary_cv(X, y, cat_features, seed=12, n_splits=5):\n",
    "    kf = StratifiedKFold(n_splits=n_splits, shuffle=True, random_state=seed)\n",
    "    models = []\n",
    "    f1_scores = []\n",
    "\n",
    "    for fold, (train_idx, valid_idx) in enumerate(kf.split(X, y)):\n",
    "        print(f\"\\n🚀 Fold {fold+1} - Binary Classification Training\")\n",
    "        X_train, X_valid = X.iloc[train_idx], X.iloc[valid_idx]\n",
    "        y_train, y_valid = y.iloc[train_idx], y.iloc[valid_idx]\n",
    "\n",
    "        model = CatBoostClassifier(\n",
    "            loss_function='Logloss',\n",
    "            task_type='GPU',\n",
    "            random_seed=seed,\n",
    "            verbose=0,\n",
    "            early_stopping_rounds=100,\n",
    "            auto_class_weights='Balanced'  # 불균형 클래스에 효과적\n",
    "        )\n",
    "\n",
    "        model.fit(\n",
    "            X_train, y_train,\n",
    "            eval_set=(X_valid, y_valid),\n",
    "            cat_features=cat_features,\n",
    "            use_best_model=True\n",
    "        )\n",
    "\n",
    "        preds = model.predict(X_valid).astype(int).flatten()\n",
    "        f1 = f1_score(y_valid, preds, average='micro')\n",
    "        f1_scores.append(f1)\n",
    "        print(f\"✅ Fold {fold+1} F1-micro: {f1:.4f}\")\n",
    "\n",
    "        models.append(model)\n",
    "\n",
    "    print(f\"\\n📊 평균 F1-micro: {np.mean(f1_scores):.4f}\")\n",
    "    return models\n",
    "\n",
    "def run_catboost_multiclass_cv(X, y, cat_features, seed=12, n_splits=5):\n",
    "    kf = StratifiedKFold(n_splits=n_splits, shuffle=True, random_state=seed)\n",
    "    models = []\n",
    "    f1_scores = []\n",
    "\n",
    "    for fold, (train_idx, valid_idx) in enumerate(kf.split(X, y)):\n",
    "        print(f\"\\n🚀 Fold {fold+1} - Multiclass Training\")\n",
    "        X_train, X_valid = X.iloc[train_idx], X.iloc[valid_idx]\n",
    "        y_train, y_valid = y.iloc[train_idx], y.iloc[valid_idx]\n",
    "\n",
    "        model = CatBoostClassifier(\n",
    "            loss_function='MultiClass',\n",
    "            task_type='GPU',\n",
    "            random_seed=seed,\n",
    "            verbose=0,\n",
    "            early_stopping_rounds=100,\n",
    "            auto_class_weights='Balanced'\n",
    "        )\n",
    "\n",
    "        model.fit(\n",
    "            X_train, y_train,\n",
    "            eval_set=(X_valid, y_valid),\n",
    "            cat_features=cat_features,\n",
    "            use_best_model=True\n",
    "        )\n",
    "\n",
    "        preds = model.predict(X_valid).astype(int).flatten()\n",
    "        f1 = f1_score(y_valid, preds, average='micro')\n",
    "        f1_scores.append(f1)\n",
    "        print(f\"✅ Fold {fold+1} F1-micro: {f1:.4f}\")\n",
    "\n",
    "        models.append(model)\n",
    "\n",
    "    print(f\"\\n📊 평균 F1-micro: {np.mean(f1_scores):.4f}\")\n",
    "    return models"
   ]
  },
  {
   "cell_type": "code",
   "execution_count": 62,
   "id": "d3831ade",
   "metadata": {},
   "outputs": [],
   "source": [
    "\n",
    "# 데이터 로딩 및 전처리\n",
    "df = pd.read_parquet(\"train_all.parquet\")\n",
    "cat_features = df.select_dtypes(include='object').columns.difference(['ID', 'Segment']).tolist()\n",
    "label_encoder = LabelEncoder()\n",
    "df['Segment_encoded'] = label_encoder.fit_transform(df['Segment'])"
   ]
  },
  {
   "cell_type": "code",
   "execution_count": 63,
   "id": "cecced34",
   "metadata": {},
   "outputs": [
    {
     "name": "stdout",
     "output_type": "stream",
     "text": [
      "\n",
      "🚀 Fold 1 - Binary Classification Training\n",
      "✅ Fold 1 F1-micro: 0.8856\n",
      "\n",
      "🚀 Fold 2 - Binary Classification Training\n",
      "✅ Fold 2 F1-micro: 0.8856\n",
      "\n",
      "🚀 Fold 3 - Binary Classification Training\n",
      "✅ Fold 3 F1-micro: 0.8852\n",
      "\n",
      "🚀 Fold 4 - Binary Classification Training\n",
      "✅ Fold 4 F1-micro: 0.8858\n",
      "\n",
      "🚀 Fold 5 - Binary Classification Training\n",
      "✅ Fold 5 F1-micro: 0.8864\n",
      "\n",
      "📊 평균 F1-micro: 0.8857\n"
     ]
    }
   ],
   "source": [
    "# 🔹 DataSet1: E vs Others\n",
    "df_dataset1 = df.copy()\n",
    "df_dataset1['target'] = (df_dataset1['Segment'] == 'E').astype(int)\n",
    "\n",
    "X1 = df_dataset1.drop(columns=['ID', 'Segment', 'Segment_encoded', 'target'])\n",
    "y1 = df_dataset1['target']\n",
    "models1 = run_catboost_binary_cv(X1, y1, cat_features)"
   ]
  },
  {
   "cell_type": "code",
   "execution_count": 64,
   "id": "f374a8e9",
   "metadata": {},
   "outputs": [
    {
     "name": "stdout",
     "output_type": "stream",
     "text": [
      "\n",
      "🚀 Fold 1 - Multiclass Training\n",
      "✅ Fold 1 F1-micro: 0.7830\n",
      "\n",
      "🚀 Fold 2 - Multiclass Training\n",
      "✅ Fold 2 F1-micro: 0.7833\n",
      "\n",
      "🚀 Fold 3 - Multiclass Training\n",
      "✅ Fold 3 F1-micro: 0.7835\n",
      "\n",
      "🚀 Fold 4 - Multiclass Training\n",
      "✅ Fold 4 F1-micro: 0.7744\n",
      "\n",
      "🚀 Fold 5 - Multiclass Training\n",
      "✅ Fold 5 F1-micro: 0.7869\n",
      "\n",
      "📊 평균 F1-micro: 0.7822\n"
     ]
    }
   ],
   "source": [
    "# 🔹 DataSet2\n",
    "df_dataset2 = df[~(df['Segment'] == 'E')].copy()\n",
    "df_dataset2 = df_dataset2[~df_dataset2['Segment'].isin(['C', 'D']) | df_dataset2['Segment'].isin(['C', 'D'])]\n",
    "\n",
    "# 3클래스: C(0), D(1), Others(2)\n",
    "def label_stage2(seg):\n",
    "    if seg == 'C':\n",
    "        return 0\n",
    "    elif seg == 'D':\n",
    "        return 1\n",
    "    else:\n",
    "        return 2\n",
    "\n",
    "df_dataset2['target'] = df_dataset2['Segment'].apply(label_stage2)\n",
    "\n",
    "X2 = df_dataset2.drop(columns=['ID', 'Segment', 'Segment_encoded', 'target'])\n",
    "y2 = df_dataset2['target']\n",
    "\n",
    "models2 = run_catboost_multiclass_cv(X2, y2, cat_features)"
   ]
  },
  {
   "cell_type": "code",
   "execution_count": 65,
   "id": "2ee2d496",
   "metadata": {},
   "outputs": [
    {
     "name": "stdout",
     "output_type": "stream",
     "text": [
      "\n",
      "🚀 Fold 1 - Binary Classification Training\n",
      "✅ Fold 1 F1-micro: 0.9375\n",
      "\n",
      "🚀 Fold 2 - Binary Classification Training\n",
      "✅ Fold 2 F1-micro: 0.9238\n",
      "\n",
      "🚀 Fold 3 - Binary Classification Training\n",
      "✅ Fold 3 F1-micro: 0.8789\n",
      "\n",
      "🚀 Fold 4 - Binary Classification Training\n",
      "✅ Fold 4 F1-micro: 0.9193\n",
      "\n",
      "🚀 Fold 5 - Binary Classification Training\n",
      "✅ Fold 5 F1-micro: 0.9552\n",
      "\n",
      "📊 평균 F1-micro: 0.9229\n"
     ]
    }
   ],
   "source": [
    "# 1. A/B 데이터셋 생성\n",
    "df3 = df[df['Segment'].isin(['A', 'B'])].copy()\n",
    "df3['target'] = (df3['Segment'] == 'B').astype(int)\n",
    "X3 = df3.drop(columns=['ID', 'Segment', 'Segment_encoded', 'target'])\n",
    "y3 = df3['target']\n",
    "\n",
    "# 2. 범주형 변수 처리 (CatBoost 용)\n",
    "for col in cat_features:\n",
    "    X3[col] = X3[col].astype(str)\n",
    "\n",
    "models3 = run_catboost_binary_cv(X3, y3, cat_features)"
   ]
  },
  {
   "cell_type": "code",
   "execution_count": 66,
   "id": "93b6c5e4",
   "metadata": {},
   "outputs": [],
   "source": [
    "# Stage 1\n",
    "preds1_probs = np.mean([model.predict_proba(X1) for model in models1], axis=0)\n",
    "best_threshold1 = find_best_threshold(y1, preds1_probs[:, 1])\n",
    "\n",
    "# Stage 3\n",
    "preds3_probs = np.mean([model.predict_proba(X3) for model in models3], axis=0)\n",
    "best_threshold3 = find_best_threshold(y3, preds3_probs[:, 1])"
   ]
  },
  {
   "cell_type": "code",
   "execution_count": 67,
   "id": "2aefc92d",
   "metadata": {},
   "outputs": [],
   "source": [
    "X_all = df.drop(columns=['ID', 'Segment', 'Segment_encoded'])\n",
    "final_preds, all_probs = full_pipeline(models1, models2, models3, X_all, best_threshold1, best_threshold3)"
   ]
  },
  {
   "cell_type": "code",
   "execution_count": 68,
   "id": "8f9eb79c",
   "metadata": {},
   "outputs": [
    {
     "name": "stdout",
     "output_type": "stream",
     "text": [
      "E    1965729\n",
      "D     257825\n",
      "C     166426\n",
      "A       9428\n",
      "B        592\n",
      "Name: count, dtype: int64\n"
     ]
    }
   ],
   "source": [
    "print(final_preds.value_counts())"
   ]
  },
  {
   "cell_type": "code",
   "execution_count": 69,
   "id": "2b1fe634",
   "metadata": {},
   "outputs": [
    {
     "name": "stdout",
     "output_type": "stream",
     "text": [
      "🎯 최종 F1-micro: 0.8763\n"
     ]
    }
   ],
   "source": [
    "from sklearn.metrics import f1_score\n",
    "\n",
    "# 실제 라벨\n",
    "y_true = df['Segment'].values\n",
    "# 예측 라벨\n",
    "y_pred = final_preds.values\n",
    "\n",
    "# F1-micro 계산\n",
    "f1 = f1_score(y_true, y_pred, average='micro')\n",
    "print(f\"🎯 최종 F1-micro: {f1:.4f}\")"
   ]
  },
  {
   "cell_type": "code",
   "execution_count": 71,
   "id": "bc62c599",
   "metadata": {},
   "outputs": [
    {
     "name": "stderr",
     "output_type": "stream",
     "text": [
      "c:\\ProgramData\\anaconda3\\Lib\\site-packages\\IPython\\core\\pylabtools.py:170: UserWarning: Glyph 9989 (\\N{WHITE HEAVY CHECK MARK}) missing from font(s) Malgun Gothic.\n",
      "  fig.canvas.print_figure(bytes_io, **kw)\n"
     ]
    },
    {
     "data": {
      "image/png": "[encoded data removed]",
      "text/plain": [
       "<Figure size 640x480 with 2 Axes>"
      ]
     },
     "metadata": {},
     "output_type": "display_data"
    }
   ],
   "source": [
    "from sklearn.metrics import confusion_matrix, ConfusionMatrixDisplay\n",
    "import matplotlib.pyplot as plt\n",
    "import matplotlib.font_manager as fm\n",
    "import matplotlib as mpl\n",
    "# 기본 한글 폰트 설정 (Windows 사용자는 Malgun Gothic 추천)\n",
    "plt.rcParams['font.family'] = 'Malgun Gothic'\n",
    "plt.rcParams['axes.unicode_minus'] = False\n",
    "# 실제값과 예측값\n",
    "y_true = df['Segment']\n",
    "y_pred = final_preds\n",
    "\n",
    "# 혼동 행렬 계산\n",
    "cm = confusion_matrix(y_true, y_pred, labels=['A', 'B', 'C', 'D', 'E'])\n",
    "\n",
    "# 시각화\n",
    "disp = ConfusionMatrixDisplay(confusion_matrix=cm, display_labels=['A', 'B', 'C', 'D', 'E'])\n",
    "disp.plot(cmap='Blues', values_format='d')\n",
    "plt.title(\"✅ 최종 예측 결과 Confusion Matrix\")\n",
    "plt.show()"
   ]
  },
  {
   "cell_type": "code",
   "execution_count": 72,
   "id": "61b42c2e",
   "metadata": {},
   "outputs": [
    {
     "name": "stdout",
     "output_type": "stream",
     "text": [
      "  Segment    Total  Correct  Incorrect  Accuracy(%)  Misclass(%)\n",
      "0       A      972      970          2        99.79         0.21\n",
      "1       B      144      143          1        99.31         0.69\n",
      "2       C   127590    85749      41841        67.21        32.79\n",
      "3       D   349242   176820     172422        50.63        49.37\n",
      "4       E  1922052  1839386      82666        95.70         4.30\n"
     ]
    }
   ],
   "source": [
    "# 실제값과 예측값\n",
    "y_true = df['Segment']\n",
    "y_pred = final_preds\n",
    "\n",
    "# 모든 Segment class 확인\n",
    "segments = sorted(y_true.unique())\n",
    "\n",
    "# 정리할 결과 저장할 리스트\n",
    "results = []\n",
    "\n",
    "for seg in segments:\n",
    "    idx = (y_true == seg)\n",
    "    total = idx.sum()\n",
    "    correct = (y_true[idx] == y_pred[idx]).sum()\n",
    "    incorrect = total - correct\n",
    "    correct_ratio = correct / total\n",
    "    incorrect_ratio = incorrect / total\n",
    "    results.append({\n",
    "        'Segment': seg,\n",
    "        'Total': total,\n",
    "        'Correct': correct,\n",
    "        'Incorrect': incorrect,\n",
    "        'Accuracy(%)': round(correct_ratio * 100, 2),\n",
    "        'Misclass(%)': round(incorrect_ratio * 100, 2)\n",
    "    })\n",
    "\n",
    "# 결과를 DataFrame으로 보기 좋게 정리\n",
    "accuracy_df = pd.DataFrame(results)\n",
    "print(accuracy_df)"
   ]
  },
  {
   "cell_type": "code",
   "execution_count": null,
   "id": "5e648424",
   "metadata": {},
   "outputs": [],
   "source": []
  }
 ],
 "metadata": {
  "kernelspec": {
   "display_name": "base",
   "language": "python",
   "name": "python3"
  },
  "language_info": {
   "codemirror_mode": {
    "name": "ipython",
    "version": 3
   },
   "file_extension": ".py",
   "mimetype": "text/x-python",
   "name": "python",
   "nbconvert_exporter": "python",
   "pygments_lexer": "ipython3",
   "version": "3.12.7"
  }
 },
 "nbformat": 4,
 "nbformat_minor": 5
}
