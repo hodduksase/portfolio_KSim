{
 "cells": [
  {
   "cell_type": "code",
   "execution_count": null,
   "id": "aa722ca5-4325-41ef-bb33-c4e176606ad7",
   "metadata": {},
   "outputs": [],
   "source": [
    "from catboost import CatBoostClassifier\n",
    "from sklearn.model_selection import train_test_split\n",
    "import pandas as pd\n",
    "import numpy as np\n",
    "\n",
    "# 데이터 불러오기\n",
    "train = pd.read_parquet('상관계수 적용 all_data.parquet')\n",
    "\n",
    "# 1단계: 학습용 / 검증용 분리\n",
    "train_data, valid_data = train_test_split(train, test_size=0.2, random_state=42, stratify=train['Segment'])\n",
    "\n",
    "# 2단계: 학습용 데이터를 AB와 CDE로 분리\n",
    "ab_train = train_data[train_data['Segment'].isin(['A', 'B'])].copy()\n",
    "cde_train = train_data[train_data['Segment'].isin(['C', 'D', 'E'])].copy()\n",
    "\n",
    "# 3단계: 각 그룹별로 모델 학습 (CatBoostClassifier)\n",
    "\n",
    "# AB 그룹\n",
    "X_ab = ab_train.drop(columns=['ID', 'Segment', '기준년월'])\n",
    "y_ab = ab_train['Segment']\n",
    "\n",
    "# 범주형 컬럼 자동 탐색\n",
    "cat_features_ab = X_ab.select_dtypes(include='object').columns.tolist()\n",
    "\n",
    "model_ab = CatBoostClassifier(verbose=0, random_state=42, task_type=\"GPU\")\n",
    "model_ab.fit(X_ab, y_ab, cat_features=cat_features_ab)\n",
    "\n",
    "# CDE 그룹\n",
    "X_cde = cde_train.drop(columns=['ID', 'Segment', '기준년월'])\n",
    "y_cde = cde_train['Segment']\n",
    "\n",
    "cat_features_cde = X_cde.select_dtypes(include='object').columns.tolist()\n",
    "\n",
    "model_cde = CatBoostClassifier(verbose=0, random_state=42, task_type=\"GPU\")\n",
    "model_cde.fit(X_cde, y_cde, cat_features=cat_features_cde)"
   ]
  },
  {
   "cell_type": "code",
   "execution_count": null,
   "id": "2b667106-7a9b-49a4-b111-1e5f6138801a",
   "metadata": {},
   "outputs": [],
   "source": [
    "from sklearn.metrics import classification_report, accuracy_score\n",
    "import numpy as np\n",
    "import pandas as pd\n",
    "\n",
    "# 1. 검증용 입력 데이터 분리\n",
    "X_valid = valid_data.drop(columns=['ID', 'Segment', '기준년월'])\n",
    "y_true = valid_data['Segment'].values\n",
    "\n",
    "# 2. 범주형 컬럼 식별 및 object로 유지\n",
    "cat_features_valid = X_valid.select_dtypes(include='object').columns.tolist()\n",
    "for col in cat_features_valid:\n",
    "    X_valid[col] = X_valid[col].astype('object')  # 문자열형 유지가 핵심\n",
    "\n",
    "# 3. AB 모델 예측 확률 (A/B만)\n",
    "proba_ab = pd.DataFrame(model_ab.predict_proba(X_valid), columns=model_ab.classes_)\n",
    "\n",
    "# 4. CDE 모델 예측 확률 (C/D/E만)\n",
    "proba_cde = pd.DataFrame(model_cde.predict_proba(X_valid), columns=model_cde.classes_)\n",
    "\n",
    "# 5. A~E 모든 클래스를 포함하는 확률 행렬 생성\n",
    "all_classes = ['A', 'B', 'C', 'D', 'E']\n",
    "proba_combined = pd.DataFrame(0, index=X_valid.index, columns=all_classes)\n",
    "\n",
    "# # AB 예측 확률 삽입\n",
    "# for col in proba_ab.columns:\n",
    "#     proba_combined[col] = proba_ab[col]\n",
    "\n",
    "# # CDE 예측 확률 삽입\n",
    "# for col in proba_cde.columns:\n",
    "#     proba_combined[col] = proba_cde[col]\n",
    "\n",
    "# AB 예측 확률 삽입\n",
    "for col in proba_ab.columns:\n",
    "    proba_combined.loc[:, col] = proba_ab[col].values\n",
    "\n",
    "# CDE 예측 확률 삽입\n",
    "for col in proba_cde.columns:\n",
    "    proba_combined.loc[:, col] = proba_cde[col].values\n",
    "\n",
    "# 6. 최종 예측: 가장 확률 높은 클래스로 선택 (→ 문자열 배열로 명확하게 변환)\n",
    "y_pred = proba_combined.idxmax(axis=1).values.astype(str)"
   ]
  },
  {
   "cell_type": "code",
   "execution_count": null,
   "id": "119c980e-a9a4-4225-a889-b214ef573872",
   "metadata": {},
   "outputs": [],
   "source": [
    "# 7. 전체 성능 평가 출력\n",
    "print(\"✅ 전체 정확도:\", accuracy_score(y_true, y_pred))\n",
    "print(\"\\n📊 Classification Report:\")\n",
    "print(classification_report(y_true, y_pred))"
   ]
  },
  {
   "cell_type": "code",
   "execution_count": null,
   "id": "c5d20b03-daef-4d6e-98f5-212c34a05320",
   "metadata": {},
   "outputs": [],
   "source": [
    "from sklearn.metrics import f1_score\n",
    "\n",
    "# micro F1 score 계산\n",
    "micro_f1 = f1_score(y_true, y_pred, average='micro')\n",
    "print(f\"\\n🔎 Micro F1 Score: {micro_f1:.4f}\")"
   ]
  },
  {
   "cell_type": "code",
   "execution_count": null,
   "id": "484feedd-81ea-451e-b7fe-1c9fa2eb3fc4",
   "metadata": {},
   "outputs": [],
   "source": [
    "# 8. 클래스별 정확도 출력\n",
    "print(\"\\n🎯 클래스별 정확도:\")\n",
    "for label in sorted(np.unique(y_true)):\n",
    "    true_mask = (y_true == label)\n",
    "    correct = (y_pred[true_mask] == label).sum()\n",
    "    total = true_mask.sum()\n",
    "    acc = correct / total\n",
    "    print(f\" - {label}: {acc:.4f} ({acc * 100:.2f}%)\")"
   ]
  },
  {
   "cell_type": "code",
   "execution_count": null,
   "id": "1fb696e2-5808-4c05-a38a-cf50319d4f8b",
   "metadata": {},
   "outputs": [],
   "source": []
  }
 ],
 "metadata": {
  "kernelspec": {
   "display_name": "Python 3 (ipykernel)",
   "language": "python",
   "name": "python3"
  },
  "language_info": {
   "codemirror_mode": {
    "name": "ipython",
    "version": 3
   },
   "file_extension": ".py",
   "mimetype": "text/x-python",
   "name": "python",
   "nbconvert_exporter": "python",
   "pygments_lexer": "ipython3",
   "version": "3.12.7"
  }
 },
 "nbformat": 4,
 "nbformat_minor": 5
}
