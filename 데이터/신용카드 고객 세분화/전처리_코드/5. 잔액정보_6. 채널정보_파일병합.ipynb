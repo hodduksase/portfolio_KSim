{
 "cells": [
  {
   "cell_type": "code",
   "execution_count": 1,
   "id": "eda049d8-8513-4327-9532-f39b60df2da4",
   "metadata": {},
   "outputs": [],
   "source": [
    "# 기본\n",
    "import pandas as pd\n",
    "import numpy as np\n",
    "import matplotlib.pyplot as plt\n",
    "import seaborn as sns\n",
    "\n",
    "# 경고 뜨지 않게 설정\n",
    "import warnings\n",
    "warnings.filterwarnings('ignore')\n",
    "\n",
    "# 그래프 설정\n",
    "sns.set()\n",
    "\n",
    "# 그래프 기본 설정\n",
    "plt.rcParams['font.family'] = 'Malgun Gothic'\n",
    "# plt.rcParams['font.family'] = 'AppleGothic'\n",
    "plt.rcParams['figure.figsize'] = 12, 6\n",
    "plt.rcParams['font.size'] = 14\n",
    "plt.rcParams['axes.unicode_minus'] = False\n",
    "\n",
    "# 데이터 전처리 알고리즘\n",
    "from sklearn.preprocessing import LabelEncoder\n",
    "from sklearn.preprocessing import StandardScaler\n",
    "\n",
    "# 학습용과 검증용으로 나누는 함수\n",
    "from sklearn.model_selection import train_test_split\n",
    "\n",
    "# 교차 검증\n",
    "from sklearn.model_selection import cross_val_score\n",
    "from sklearn.model_selection import cross_validate\n",
    "from sklearn.model_selection import KFold\n",
    "from sklearn.model_selection import StratifiedKFold\n",
    "\n",
    "# 평가함수\n",
    "# 분류용\n",
    "from sklearn.metrics import accuracy_score\n",
    "from sklearn.metrics import precision_score\n",
    "from sklearn.metrics import recall_score\n",
    "from sklearn.metrics import f1_score\n",
    "from sklearn.metrics import roc_auc_score\n",
    "\n",
    "# 회귀용\n",
    "from sklearn.metrics import r2_score\n",
    "from sklearn.metrics import mean_squared_error\n",
    "\n",
    "# 모델의 최적의 하이퍼 파라미터를 찾기 위한 도구\n",
    "from sklearn.model_selection import GridSearchCV\n",
    "\n",
    "# 머신러닝 알고리즘 - 분류\n",
    "from sklearn.neighbors import KNeighborsClassifier\n",
    "from sklearn.linear_model import LogisticRegression\n",
    "from sklearn.svm import SVC\n",
    "from sklearn.tree import DecisionTreeClassifier\n",
    "from sklearn.ensemble import RandomForestClassifier\n",
    "from sklearn.ensemble import AdaBoostClassifier\n",
    "from sklearn.ensemble import GradientBoostingClassifier\n",
    "from lightgbm import LGBMClassifier\n",
    "from xgboost import XGBClassifier\n",
    "from sklearn.ensemble import VotingClassifier\n",
    "\n",
    "# 머신러닝 알고리즘 - 회귀\n",
    "from sklearn.neighbors import KNeighborsRegressor\n",
    "from sklearn.linear_model import LinearRegression\n",
    "from sklearn.linear_model import Ridge\n",
    "from sklearn.linear_model import Lasso\n",
    "from sklearn.linear_model import ElasticNet\n",
    "from sklearn.svm import SVR\n",
    "from sklearn.tree import DecisionTreeRegressor\n",
    "from sklearn.ensemble import RandomForestRegressor\n",
    "from sklearn.ensemble import AdaBoostRegressor\n",
    "from sklearn.ensemble import GradientBoostingRegressor\n",
    "from lightgbm import LGBMRegressor\n",
    "from xgboost import XGBRegressor\n",
    "from sklearn.ensemble import VotingRegressor\n",
    "\n",
    "# 차원 축소\n",
    "from sklearn.decomposition import PCA\n",
    "from sklearn.discriminant_analysis import LinearDiscriminantAnalysis\n",
    "\n",
    "# 군집\n",
    "from sklearn.cluster import KMeans\n",
    "from sklearn.cluster import MeanShift\n",
    "from sklearn.cluster import estimate_bandwidth\n",
    "\n",
    "\n",
    "# 학습 모델 저장을 위한 라이브러리\n",
    "import pickle"
   ]
  },
  {
   "cell_type": "markdown",
   "id": "d751e87c-7f3a-4ca7-a0da-088cc2143a53",
   "metadata": {},
   "source": [
    "### 데이터 분포 확인(histogram)"
   ]
  },
  {
   "cell_type": "code",
   "execution_count": null,
   "id": "cf0c4a57-f912-4e0f-a191-15fd316065f7",
   "metadata": {},
   "outputs": [],
   "source": [
    "# parquet 파일 데이터를 읽어온다.\n",
    "df1 = pd.read_parquet('open/train/5.잔액정보/201807_train_잔액정보.parquet')\n",
    "df2 = pd.read_parquet('open/train/5.잔액정보/201808_train_잔액정보.parquet')\n",
    "df3 = pd.read_parquet('open/train/5.잔액정보/201809_train_잔액정보.parquet')\n",
    "df4 = pd.read_parquet('open/train/5.잔액정보/201810_train_잔액정보.parquet')\n",
    "df5 = pd.read_parquet('open/train/5.잔액정보/201811_train_잔액정보.parquet')\n",
    "df6 = pd.read_parquet('open/train/5.잔액정보/201812_train_잔액정보.parquet')"
   ]
  },
  {
   "cell_type": "code",
   "execution_count": null,
   "id": "f526dfeb-353d-4d2d-b5db-73d914fa7f8a",
   "metadata": {},
   "outputs": [],
   "source": [
    "# 월별 데이터 프레임을 합친다.\n",
    "all_df = pd.concat([df1, df2, df3, df4, df5, df6])\n",
    "all_df.reset_index(inplace=True, drop=True)\n",
    "all_df"
   ]
  },
  {
   "cell_type": "code",
   "execution_count": null,
   "id": "89eaa7ed-3263-45c4-9ae7-86db4bf2e90b",
   "metadata": {},
   "outputs": [],
   "source": [
    "import gc\n",
    "import os\n",
    "\n",
    "# 저장 폴더 생성 (없으면 새로 생성)\n",
    "os.makedirs('plots2', exist_ok=True)\n",
    "\n",
    "# 숫자형 컬럼만 추출\n",
    "numeric_cols = all_df.select_dtypes(include='number').columns\n",
    "\n",
    "# 반복해서 히스토그램 그리고 이미지 저장\n",
    "for idx, col in enumerate(numeric_cols, start=1):\n",
    "    plt.figure(figsize=(8, 4))\n",
    "    sns.histplot(data=all_df, x=col, bins=20, kde=False)\n",
    "    plt.title(f'Histogram of {col}')\n",
    "    plt.xlabel(col)\n",
    "    plt.ylabel('Frequency')\n",
    "    plt.tight_layout()\n",
    "    \n",
    "    # 이미지 파일로 저장\n",
    "    filename = f\"plots2/{idx:02d}_{col}.png\"\n",
    "    plt.savefig(filename)\n",
    "    \n",
    "    # 리소스 해제\n",
    "    plt.clf()\n",
    "    plt.close()\n",
    "    gc.collect()"
   ]
  },
  {
   "cell_type": "markdown",
   "id": "d9097e0c-5805-4ba5-b5bf-f0f9affc80f9",
   "metadata": {},
   "source": [
    "### 데이터 상관관계(heatmap)"
   ]
  },
  {
   "cell_type": "code",
   "execution_count": null,
   "id": "160c4d5f-e916-41e1-b5b2-43518655d257",
   "metadata": {},
   "outputs": [],
   "source": [
    "# 데이터 load\n",
    "df = pd.read_parquet(\"open/train/6.채널정보/채널정보 월별 합본_전처리.parquet\")\n",
    "\n",
    "# 복사본 생성\n",
    "df_corr = df.copy()\n",
    "\n",
    "# Label Encoding\n",
    "for col in df_corr.select_dtypes(include=['object', 'category']).columns:\n",
    "    df_corr[col] = LabelEncoder().fit_transform(df_corr[col].astype(str))\n",
    "\n",
    "# float64 → float32 변환\n",
    "for col in df_corr.select_dtypes(include='float64').columns:\n",
    "    df_corr[col] = df_corr[col].astype('float32')\n",
    "\n",
    "# int64 → int32 변환\n",
    "for col in df_corr.select_dtypes(include='int64').columns:\n",
    "    df_corr[col] = df_corr[col].astype('int32')\n",
    "\n",
    "# 상관관계 행렬 계산\n",
    "corr_matrix = df_corr.corr()\n",
    "\n",
    "# 시각화 (옵션)\n",
    "plt.figure(figsize=(20, 18))\n",
    "sns.heatmap(corr_matrix, annot=True, cmap='coolwarm', annot_kws={\"size\": 5})\n",
    "plt.title(\"상관관계 히트맵\")\n",
    "plt.show()"
   ]
  },
  {
   "cell_type": "markdown",
   "id": "eb9048d8-24a3-48a9-9f4a-a1f58c0e8f43",
   "metadata": {},
   "source": [
    "### VIF(메모리 오류 발생)"
   ]
  },
  {
   "cell_type": "code",
   "execution_count": null,
   "id": "425f82fd-3671-4fad-b3ad-8aee2deb0262",
   "metadata": {},
   "outputs": [],
   "source": [
    "from statsmodels.stats.outliers_influence import variance_inflation_factor\n",
    "from statsmodels.tools.tools import add_constant\n",
    "\n",
    "X = df_corr.select_dtypes(include='number').dropna()\n",
    "\n",
    "X_const = add_constant(X)\n",
    "\n",
    "# VIF\n",
    "vif_df = pd.DataFrame()\n",
    "vif_df[\"변수명\"] = X_const.columns\n",
    "vif_df[\"VIF\"] = [variance_inflation_factor(X_const.values, i) for i in range(X_const.shape[1])]\n",
    "\n",
    "vif_df = vif_df.sort_values(\"VIF\", ascending=False)\n",
    "print(vif_df)"
   ]
  },
  {
   "cell_type": "markdown",
   "id": "d4b78e18-1c5e-4352-ab3e-6bff4ffd14d9",
   "metadata": {},
   "source": [
    "### 데이터 전처리"
   ]
  },
  {
   "cell_type": "code",
   "execution_count": null,
   "id": "75ed8bb9-7005-4d1e-b052-74883b6db46b",
   "metadata": {},
   "outputs": [],
   "source": [
    "# 결측치가 있는 컬럼만 추출\n",
    "missing_cols = all_df1.columns[all_df1.isnull().any()]\n",
    "print(missing_cols)"
   ]
  },
  {
   "cell_type": "code",
   "execution_count": null,
   "id": "17a2dde6-0bb3-40b4-a329-0b6f335a0660",
   "metadata": {},
   "outputs": [],
   "source": [
    "drop_list1 = ['카드론잔액_최종경과월', '최종연체개월수_R15M', 'RV잔액이월횟수_R6M', 'RV잔액이월횟수_R3M', '연체잔액_일시불_해외_B0M', '연체잔액_RV일시불_해외_B0M',\n",
    "'연체잔액_할부_해외_B0M','연체잔액_CA_해외_B0M', '연체일자_B0M']\n",
    "\n",
    "all_df1.drop(drop_list1, axis = 1, inplace = True)"
   ]
  },
  {
   "cell_type": "code",
   "execution_count": null,
   "id": "a064e81b-b3d2-4681-b780-bb650c4621bd",
   "metadata": {},
   "outputs": [],
   "source": [
    "drop_list2 = ['인입횟수_금융_IB_R6M',\n",
    "'인입불만횟수_IB_R6M',\n",
    "'인입불만일수_IB_R6M',\n",
    "'인입불만월수_IB_R6M',\n",
    "'인입불만후경과월_IB_R6M',\n",
    "'인입불만횟수_IB_B0M',\n",
    "'인입불만일수_IB_B0M',\n",
    "'IB문의건수_한도_B0M',\n",
    "'IB문의건수_결제_B0M',\n",
    "'IB문의건수_할부_B0M',\n",
    "'IB문의건수_정보변경_B0M',\n",
    "'IB문의건수_결제일변경_B0M',\n",
    "'IB문의건수_명세서_B0M',\n",
    "'IB문의건수_비밀번호_B0M',\n",
    "'IB문의건수_SMS_B0M',\n",
    "'IB문의건수_APP_B0M',\n",
    "'IB문의건수_부대서비스_B0M',\n",
    "'IB문의건수_포인트_B0M',\n",
    "'IB문의건수_BL_B0M',\n",
    "'IB문의건수_분실도난_B0M',\n",
    "'IB문의건수_CA_B0M',\n",
    "'IB상담건수_VOC_B0M',\n",
    "'IB상담건수_VOC민원_B0M',\n",
    "'IB상담건수_VOC불만_B0M',\n",
    "'IB상담건수_금감원_B0M',\n",
    "'IB문의건수_명세서_R6M',\n",
    "'IB문의건수_APP_R6M',\n",
    "'IB상담건수_VOC_R6M',\n",
    "'IB상담건수_VOC민원_R6M',\n",
    "'IB상담건수_VOC불만_R6M',\n",
    "'IB상담건수_금감원_R6M',\n",
    "'불만제기건수_B0M',\n",
    "'불만제기건수_R12M',\n",
    "'당사PAY_방문횟수_B0M',\n",
    "'당사PAY_방문횟수_R6M',\n",
    "'당사PAY_방문월수_R6M',\n",
    "'OS구분코드']\n",
    "\n",
    "all_df2.drop(drop_list2, axis = 1, inplace = True)"
   ]
  },
  {
   "cell_type": "code",
   "execution_count": null,
   "id": "8493b779-7a25-4088-9dba-a1c328a41001",
   "metadata": {},
   "outputs": [],
   "source": [
    "# object형으로 변환하고 싶은 컬럼 리스트\n",
    "columns_to_convert = ['연체일수_B1M',\n",
    "'연체일수_B2M',\n",
    "'연체일수_최근',\n",
    "'최종연체회차']\n",
    "\n",
    "# 각 컬럼을 object형으로 변환\n",
    "all_df1[columns_to_convert] = all_df1[columns_to_convert].astype('object')\n",
    "\n",
    "# 확인\n",
    "print(all_df1.dtypes)"
   ]
  },
  {
   "cell_type": "code",
   "execution_count": null,
   "id": "5d551903-bdcb-4f64-b4f0-ef53a7e91baf",
   "metadata": {},
   "outputs": [],
   "source": [
    "### parquet의 특성으로 인해 타입을 object로 바꿔도 돌아오는 문제 발생 따라서 타입을 아예 str로 변경"
   ]
  },
  {
   "cell_type": "code",
   "execution_count": null,
   "id": "95231177-379d-4478-b9fc-8e5e2d4821e8",
   "metadata": {},
   "outputs": [],
   "source": [
    "# 명시적으로 문자열(str)로 변환\n",
    "columns_to_convert = ['연체일수_B1M', '연체일수_B2M', '연체일수_최근', '최종연체회차']\n",
    "all_df1[columns_to_convert] = all_df1[columns_to_convert].astype(str)"
   ]
  },
  {
   "cell_type": "code",
   "execution_count": null,
   "id": "7d687bcc-a1be-4510-af40-5282083db1cf",
   "metadata": {},
   "outputs": [],
   "source": [
    "# str형으로 변환하고 싶은 컬럼 리스트\n",
    "columns_to_convert = ['인입일수_ARS_B0M',\n",
    "'IB문의건수_사용승인내역_B0M',\n",
    "'IB문의건수_선결제_B0M',\n",
    "'IB문의건수_한도_R6M'\n",
    "]\n",
    "\n",
    "# 각 컬럼을 str형으로 변환\n",
    "all_df2[columns_to_convert] = all_df2[columns_to_convert].astype(str)"
   ]
  },
  {
   "cell_type": "code",
   "execution_count": null,
   "id": "91175926-54b4-49c5-a16e-3374fa8bf59d",
   "metadata": {},
   "outputs": [],
   "source": [
    "all_df1.to_parquet('5.잔액정보_전처리완.parquet')"
   ]
  },
  {
   "cell_type": "code",
   "execution_count": null,
   "id": "781bfd28-81b1-4089-9bfe-f49211ec3062",
   "metadata": {},
   "outputs": [],
   "source": [
    "all_df2.to_parquet('6.채널정보_전처리완.parquet')"
   ]
  }
 ],
 "metadata": {
  "kernelspec": {
   "display_name": "Python 3 (ipykernel)",
   "language": "python",
   "name": "python3"
  },
  "language_info": {
   "codemirror_mode": {
    "name": "ipython",
    "version": 3
   },
   "file_extension": ".py",
   "mimetype": "text/x-python",
   "name": "python",
   "nbconvert_exporter": "python",
   "pygments_lexer": "ipython3",
   "version": "3.12.7"
  }
 },
 "nbformat": 4,
 "nbformat_minor": 5
}
