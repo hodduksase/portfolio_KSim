{
 "cells": [
  {
   "cell_type": "code",
   "execution_count": 7,
   "id": "a6e4a25a",
   "metadata": {},
   "outputs": [
    {
     "name": "stdout",
     "output_type": "stream",
     "text": [
      "수정된 파일이 저장되었습니다: 승인매충정검_업데이트.xlsx\n"
     ]
    }
   ],
   "source": [
    "import pandas as pd\n",
    "\n",
    "# 파일 경로 설정\n",
    "csv_path = \"변환결과_전체통계.xlsx\"\n",
    "excel_path = \"승인매충정검중간저장.xlsx\"\n",
    "output_path = \"승인매충정검_업데이트.xlsx\"\n",
    "\n",
    "# CSV 불러오기\n",
    "csv_df = pd.read_excel(csv_path)\n",
    "csv_df['컬럼명'] = csv_df['컬럼명'].astype(str).str.strip()\n",
    "\n",
    "# Excel 파일의 모든 시트 불러오기\n",
    "excel_sheets = pd.read_excel(excel_path, sheet_name=None)\n",
    "target_sheet_name = '3.승인매출 정보'\n",
    "excel_df = excel_sheets[target_sheet_name]\n",
    "excel_df['필드한글명'] = excel_df['필드한글명'].astype(str).str.strip()\n",
    "\n",
    "# 값 복사: 컬럼명이 일치하는 경우 통계값 입력\n",
    "for _, row in csv_df.iterrows():\n",
    "    col_name = str(row['컬럼명']).strip()\n",
    "    match_index = excel_df[excel_df['필드한글명'] == col_name].index\n",
    "    if not match_index.empty:\n",
    "        idx = match_index[0]\n",
    "        for stat_col in ['count', 'mean', 'std', 'min', 'max', '25%', '50%', '75%', 'zero_counts'] :\n",
    "                         \n",
    "            if stat_col in row:\n",
    "                try:\n",
    "                    value = float(str(row[stat_col]).replace(',', '').strip())\n",
    "                except:\n",
    "                    value = row[stat_col]\n",
    "                excel_df.at[idx, stat_col] = value\n",
    "\n",
    "# 수정된 시트를 다시 저장\n",
    "excel_sheets[target_sheet_name] = excel_df\n",
    "with pd.ExcelWriter(output_path, engine='openpyxl') as writer:\n",
    "    for sheet_name, sheet_df in excel_sheets.items():\n",
    "        sheet_df.to_excel(writer, sheet_name=sheet_name, index=False)\n",
    "\n",
    "print(f\"수정된 파일이 저장되었습니다: {output_path}\")"
   ]
  },
  {
   "cell_type": "code",
   "execution_count": null,
   "id": "53fa1385",
   "metadata": {},
   "outputs": [],
   "source": []
  }
 ],
 "metadata": {
  "kernelspec": {
   "display_name": "base",
   "language": "python",
   "name": "python3"
  },
  "language_info": {
   "codemirror_mode": {
    "name": "ipython",
    "version": 3
   },
   "file_extension": ".py",
   "mimetype": "text/x-python",
   "name": "python",
   "nbconvert_exporter": "python",
   "pygments_lexer": "ipython3",
   "version": "3.12.7"
  }
 },
 "nbformat": 4,
 "nbformat_minor": 5
}
