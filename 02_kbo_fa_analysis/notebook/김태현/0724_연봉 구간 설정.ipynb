{
 "cells": [
  {
   "cell_type": "code",
   "execution_count": 1,
   "id": "86dc08ed-4826-4bff-8f54-1a88b1f45160",
   "metadata": {},
   "outputs": [],
   "source": [
    "# 기본\n",
    "import pandas as pd\n",
    "import numpy as np\n",
    "import matplotlib.pyplot as plt\n",
    "import seaborn as sns\n",
    "\n",
    "# 경고 뜨지 않게 설정\n",
    "import warnings\n",
    "warnings.filterwarnings('ignore')\n",
    "\n",
    "# 그래프 설정\n",
    "sns.set()\n",
    "\n",
    "# 그래프 기본 설정\n",
    "plt.rcParams['font.family'] = 'Malgun Gothic'\n",
    "# plt.rcParams['font.family'] = 'AppleGothic'\n",
    "plt.rcParams['figure.figsize'] = 12, 6\n",
    "plt.rcParams['font.size'] = 14\n",
    "plt.rcParams['axes.unicode_minus'] = False\n",
    "\n",
    "# 데이터 전처리 알고리즘\n",
    "from sklearn.preprocessing import LabelEncoder\n",
    "from sklearn.preprocessing import StandardScaler"
   ]
  },
  {
   "cell_type": "markdown",
   "id": "bb4684be-000d-442f-95ef-836223bb3102",
   "metadata": {},
   "source": [
    "### 파일 불러오기 "
   ]
  },
  {
   "cell_type": "code",
   "execution_count": 3,
   "id": "5378e23d-e223-4c09-8da4-725763816d15",
   "metadata": {},
   "outputs": [
    {
     "data": {
      "text/html": [
       "<div>\n",
       "<style scoped>\n",
       "    .dataframe tbody tr th:only-of-type {\n",
       "        vertical-align: middle;\n",
       "    }\n",
       "\n",
       "    .dataframe tbody tr th {\n",
       "        vertical-align: top;\n",
       "    }\n",
       "\n",
       "    .dataframe thead th {\n",
       "        text-align: right;\n",
       "    }\n",
       "</style>\n",
       "<table border=\"1\" class=\"dataframe\">\n",
       "  <thead>\n",
       "    <tr style=\"text-align: right;\">\n",
       "      <th></th>\n",
       "      <th>선수</th>\n",
       "      <th>연봉(만원)</th>\n",
       "      <th>WAR</th>\n",
       "      <th>WAR당 연봉</th>\n",
       "      <th>팀</th>\n",
       "      <th>pid</th>\n",
       "    </tr>\n",
       "  </thead>\n",
       "  <tbody>\n",
       "    <tr>\n",
       "      <th>0</th>\n",
       "      <td>류현진</td>\n",
       "      <td>250000</td>\n",
       "      <td>4.56</td>\n",
       "      <td>54775</td>\n",
       "      <td>한화 이글스</td>\n",
       "      <td>10590</td>\n",
       "    </tr>\n",
       "    <tr>\n",
       "      <th>1</th>\n",
       "      <td>채은성</td>\n",
       "      <td>100000</td>\n",
       "      <td>1.40</td>\n",
       "      <td>71340</td>\n",
       "      <td>한화 이글스</td>\n",
       "      <td>11215</td>\n",
       "    </tr>\n",
       "    <tr>\n",
       "      <th>2</th>\n",
       "      <td>페냐</td>\n",
       "      <td>65000</td>\n",
       "      <td>0.35</td>\n",
       "      <td>187034</td>\n",
       "      <td>한화 이글스</td>\n",
       "      <td>15146</td>\n",
       "    </tr>\n",
       "    <tr>\n",
       "      <th>3</th>\n",
       "      <td>페라자</td>\n",
       "      <td>60000</td>\n",
       "      <td>2.90</td>\n",
       "      <td>20686</td>\n",
       "      <td>한화 이글스</td>\n",
       "      <td>16121</td>\n",
       "    </tr>\n",
       "    <tr>\n",
       "      <th>4</th>\n",
       "      <td>최재훈</td>\n",
       "      <td>60000</td>\n",
       "      <td>1.68</td>\n",
       "      <td>35760</td>\n",
       "      <td>한화 이글스</td>\n",
       "      <td>10170</td>\n",
       "    </tr>\n",
       "    <tr>\n",
       "      <th>...</th>\n",
       "      <td>...</td>\n",
       "      <td>...</td>\n",
       "      <td>...</td>\n",
       "      <td>...</td>\n",
       "      <td>...</td>\n",
       "      <td>...</td>\n",
       "    </tr>\n",
       "    <tr>\n",
       "      <th>850</th>\n",
       "      <td>박준형</td>\n",
       "      <td>3000</td>\n",
       "      <td>-0.25</td>\n",
       "      <td>-12108</td>\n",
       "      <td>키움 히어로즈</td>\n",
       "      <td>14211</td>\n",
       "    </tr>\n",
       "    <tr>\n",
       "      <th>851</th>\n",
       "      <td>박윤성</td>\n",
       "      <td>3000</td>\n",
       "      <td>0.04</td>\n",
       "      <td>72014</td>\n",
       "      <td>키움 히어로즈</td>\n",
       "      <td>15475</td>\n",
       "    </tr>\n",
       "    <tr>\n",
       "      <th>852</th>\n",
       "      <td>서유신</td>\n",
       "      <td>3000</td>\n",
       "      <td>-</td>\n",
       "      <td>-</td>\n",
       "      <td>키움 히어로즈</td>\n",
       "      <td>15483</td>\n",
       "    </tr>\n",
       "    <tr>\n",
       "      <th>853</th>\n",
       "      <td>이명기</td>\n",
       "      <td>3000</td>\n",
       "      <td>-</td>\n",
       "      <td>-</td>\n",
       "      <td>키움 히어로즈</td>\n",
       "      <td>14212</td>\n",
       "    </tr>\n",
       "    <tr>\n",
       "      <th>854</th>\n",
       "      <td>신효수</td>\n",
       "      <td>1500</td>\n",
       "      <td>-</td>\n",
       "      <td>-</td>\n",
       "      <td>키움 히어로즈</td>\n",
       "      <td>16137</td>\n",
       "    </tr>\n",
       "  </tbody>\n",
       "</table>\n",
       "<p>855 rows × 6 columns</p>\n",
       "</div>"
      ],
      "text/plain": [
       "      선수  연봉(만원)    WAR WAR당 연봉        팀    pid\n",
       "0    류현진  250000   4.56   54775   한화 이글스  10590\n",
       "1    채은성  100000   1.40   71340   한화 이글스  11215\n",
       "2     페냐   65000   0.35  187034   한화 이글스  15146\n",
       "3    페라자   60000   2.90   20686   한화 이글스  16121\n",
       "4    최재훈   60000   1.68   35760   한화 이글스  10170\n",
       "..   ...     ...    ...     ...      ...    ...\n",
       "850  박준형    3000  -0.25  -12108  키움 히어로즈  14211\n",
       "851  박윤성    3000   0.04   72014  키움 히어로즈  15475\n",
       "852  서유신    3000      -       -  키움 히어로즈  15483\n",
       "853  이명기    3000      -       -  키움 히어로즈  14212\n",
       "854  신효수    1500      -       -  키움 히어로즈  16137\n",
       "\n",
       "[855 rows x 6 columns]"
      ]
     },
     "execution_count": 3,
     "metadata": {},
     "output_type": "execute_result"
    }
   ],
   "source": [
    "# 1. 파일 불러오기\n",
    "sal_data_24 = pd.read_csv('2024_연봉_statiz.csv')\n",
    "sal_data_24"
   ]
  },
  {
   "cell_type": "code",
   "execution_count": 4,
   "id": "2a87f829-7054-45ff-afbe-39dbebdad01e",
   "metadata": {},
   "outputs": [],
   "source": [
    "# 팀별/전체 연봉순위 파생변수 생성\n",
    "df = sal_data_24.copy()\n",
    "df['연봉'] = df['연봉(만원)']\n",
    "\n",
    "# 팀별 연봉순위 (1등 = 가장 연봉 높은 선수)\n",
    "df['팀연봉순위'] = df.groupby('팀')['연봉'].rank(ascending=False, method='first')\n",
    "# 전체 연봉순위\n",
    "df['전체연봉순위'] = df['연봉'].rank(ascending=False, method='first')"
   ]
  },
  {
   "cell_type": "code",
   "execution_count": 5,
   "id": "805114b8-4659-4f1e-8b0b-b6de5daa3c21",
   "metadata": {},
   "outputs": [],
   "source": [
    "#1. FA 공식 등급제\n",
    "def get_fa_grade(row):\n",
    "    if row['팀연봉순위'] <= 3 or row['전체연봉순위'] <= 30:\n",
    "        return 'A'\n",
    "    elif 4 <= row['팀연봉순위'] <= 10 or 31 <= row['전체연봉순위'] <= 60:\n",
    "        return 'B'\n",
    "    else:\n",
    "        return 'C'\n",
    "\n",
    "df['등급_FA'] = df.apply(get_fa_grade, axis=1)"
   ]
  },
  {
   "cell_type": "code",
   "execution_count": 6,
   "id": "245cf02b-27a3-4dde-99ad-d4a9dff6466a",
   "metadata": {},
   "outputs": [],
   "source": [
    "# 2. 팀 내 연봉 순위 기준\n",
    "def team_rank_grade(rank):\n",
    "    if rank <= 3:\n",
    "        return 'A'\n",
    "    elif 4 <= rank <= 10:\n",
    "        return 'B'\n",
    "    else:\n",
    "        return 'C'\n",
    "\n",
    "df['등급_팀내순위'] = df['팀연봉순위'].apply(team_rank_grade)"
   ]
  },
  {
   "cell_type": "code",
   "execution_count": 7,
   "id": "fb3885ce-4bbc-4076-bfc3-1fb5b7e2ddca",
   "metadata": {},
   "outputs": [
    {
     "name": "stdout",
     "output_type": "stream",
     "text": [
      "5\n"
     ]
    }
   ],
   "source": [
    "df['연봉'] = pd.to_numeric(df['연봉'], errors='coerce')\n",
    "print(df['연봉'].isna().sum())\n",
    "# 만약 이때 NaN이 생기면, 원래 문자열로 되어있던 이상치(예: '정보없음' 등)가 있던 것!"
   ]
  },
  {
   "cell_type": "code",
   "execution_count": 8,
   "id": "3c9c1339-afc7-4caa-b930-3bd924462e44",
   "metadata": {},
   "outputs": [],
   "source": [
    "# 3. 분위수(Quantile) - 차등 분배\n",
    "# 데이터 타입 int 변경 및 결측치 거거\n",
    "df['연봉'] = pd.to_numeric(df['연봉'], errors='coerce')\n",
    "valid_salary = df['연봉'].dropna()\n",
    "\n",
    "# A: 상위 1%, B: 1~10%, C: 10~30%, D: 30~60%, E: 하위 40%\n",
    "percentiles = [0, 0.40, 0.70, 0.90, 0.99, 1.0]\n",
    "quantiles = [np.percentile(valid_salary, 100*p) for p in percentiles]\n",
    "\n",
    "labels = ['E', 'D', 'C', 'B', 'A']\n",
    "df['등급_차등분위'] = pd.cut(df['연봉'], bins=quantiles, labels=labels, include_lowest=True)"
   ]
  },
  {
   "cell_type": "markdown",
   "id": "45a6e4da-a2f7-4e60-b462-14387b72a529",
   "metadata": {},
   "source": [
    "- E: 0 ~ 3,000 (최하위, 하위 25% 기준)\n",
    "- D: 3,001 ~ 3,600 (중하위, 중앙값까지)\n",
    "- C: 3,601 ~ 9,875 (중위권, 3사분위수까지)\n",
    "- B: 9,876 ~ 13,214 (평균 미만)\n",
    "- A: 13,215 ~ 250,000 (평균 이상~최고)"
   ]
  },
  {
   "cell_type": "code",
   "execution_count": 10,
   "id": "c495470c-ca52-429e-83ba-2c7fb9e128b2",
   "metadata": {},
   "outputs": [],
   "source": [
    "#4. (평균/표준편차 기반 5단계)\n",
    "bins = [0, 3000, 3600, 9875, 13214, 250000]\n",
    "labels = ['E', 'D', 'C', 'B', 'A']\n",
    "df['등급_직접설정'] = pd.cut(df['연봉'], bins=bins, labels=labels, include_lowest=True)"
   ]
  },
  {
   "cell_type": "markdown",
   "id": "d5621a67-5d1c-43c4-be40-5a9c1d4d926a",
   "metadata": {},
   "source": [
    "- A+: 50,000(5억) 이상 (슈퍼스타)\n",
    "- A: 13,215 ~ 49,999 (상위권, 평균 이상)\n",
    "- B: 9,876 ~ 13,214 (중상위)\n",
    "- C: 3,601 ~ 9,875 (중위권)\n",
    "- D: 3,001 ~ 3,600 (중하위)\n",
    "- E: 0 ~ 3,000 (최하위)"
   ]
  },
  {
   "cell_type": "code",
   "execution_count": 12,
   "id": "fcab5325-3913-4c20-95b8-5fd8e5eac004",
   "metadata": {},
   "outputs": [],
   "source": [
    "# 5.슈퍼스타 구간 분리 6단계)\n",
    "bins = [0, 3000, 3600, 9875, 13214, 50000, 250000]\n",
    "labels = ['E', 'D', 'C', 'B', 'A', 'A+']\n",
    "df['등급_슈퍼스타'] = pd.cut(df['연봉'], bins=bins, labels=labels, include_lowest=True)"
   ]
  },
  {
   "cell_type": "code",
   "execution_count": 19,
   "id": "a99bfedd-88bc-4884-a94e-a0aee7c3cb0b",
   "metadata": {},
   "outputs": [],
   "source": [
    "#6. 혼합 구간 분리\n",
    "# '-'(문자), None 등을 먼저 NaN으로\n",
    "df['연봉'] = df['연봉'].replace('-', np.nan)\n",
    "\n",
    "# 숫자형(실수)으로 변환, 변환 안되는 값은 NaN\n",
    "df['연봉'] = pd.to_numeric(df['연봉'], errors='coerce')\n",
    "\n",
    "# NaN 아닌 값만으로 분위수 계산\n",
    "q5 = np.percentile(df['연봉'].dropna(), 95)\n",
    "q10 = np.percentile(df['연봉'].dropna(), 90)\n",
    "q20 = np.percentile(df['연봉'].dropna(), 80)\n",
    "\n",
    "def hybrid_grade(row, q5, q10, q20):\n",
    "    # A+ 등급: 팀내 1~3위 또는 연봉 상위 5% (슈퍼스타)\n",
    "    if row['팀연봉순위'] <= 3 or row['연봉'] >= q5:\n",
    "        return 'A+'\n",
    "    # A 등급: 팀내 4~10위 또는 연봉 상위 10%\n",
    "    elif (4 <= row['팀연봉순위'] <= 10) or (q10 <= row['연봉'] < q5):\n",
    "        return 'A'\n",
    "    # B 등급: 연봉 상위 10~20%\n",
    "    elif q20 <= row['연봉'] < q10:\n",
    "        return 'B'\n",
    "    # 나머지는 연봉 구간 직접설정 (C, D, E 등)\n",
    "    elif row['연봉'] >= 9875:\n",
    "        return 'C'\n",
    "    elif row['연봉'] >= 3600:\n",
    "        return 'D'\n",
    "    else:\n",
    "        return 'E'\n",
    "        \n",
    "df['등급_혼합'] = df.apply(lambda row: hybrid_grade(row, q5, q10, q20), axis=1)"
   ]
  },
  {
   "cell_type": "code",
   "execution_count": 15,
   "id": "9577c2bb-a930-4966-b2bb-e9bed9872749",
   "metadata": {},
   "outputs": [],
   "source": []
  },
  {
   "cell_type": "code",
   "execution_count": 16,
   "id": "23881ce4-62fb-459f-a6f7-c04ee09c8262",
   "metadata": {},
   "outputs": [
    {
     "name": "stdout",
     "output_type": "stream",
     "text": [
      "count       850.000000\n",
      "mean      13214.117647\n",
      "std       25206.711265\n",
      "min        1500.000000\n",
      "25%        3000.000000\n",
      "50%        3600.000000\n",
      "75%        9875.000000\n",
      "max      250000.000000\n",
      "Name: 연봉, dtype: float64\n",
      "0    250000.0\n",
      "1    100000.0\n",
      "2     65000.0\n",
      "3     60000.0\n",
      "4     60000.0\n",
      "5     50000.0\n",
      "6     50000.0\n",
      "7     50000.0\n",
      "8     48000.0\n",
      "9     35000.0\n",
      "Name: 연봉, dtype: float64\n"
     ]
    }
   ],
   "source": [
    "print(df['연봉'].describe())\n",
    "print(df['연봉'].head(10))"
   ]
  },
  {
   "cell_type": "code",
   "execution_count": 25,
   "id": "3ffc16d4-43f7-4243-bfc2-6ec20ecc75b1",
   "metadata": {},
   "outputs": [],
   "source": [
    "# '연봉(만원)' 컬럼이 문자열/문자일 경우 숫자형으로 변환\n",
    "df['연봉'] = pd.to_numeric(df['연봉(만원)'].replace('-', np.nan), errors='coerce')\n",
    "\n",
    "# 원하는 분위 구간(0~100 사이 정수값, 인원 분포를 조절 가능)\n",
    "percentiles = [0, 3, 10, 25, 50, 80, 100]\n",
    "\n",
    "# 분위수 구간 경계값 구하기\n",
    "quantiles = [np.percentile(df['연봉'].dropna(), p) for p in percentiles]\n",
    "\n",
    "# 중복 구간 제거 (동일 값 있을 수 있으니)\n",
    "quantiles = sorted(set(quantiles))\n",
    "\n",
    "# labels 개수 = quantiles(구간) - 1\n",
    "labels = ['E', 'D', 'C', 'B', 'A', 'A+'][:len(quantiles)-1]\n",
    "\n",
    "df['등급_혼합'] = pd.cut(df['연봉'], bins=quantiles, labels=labels, include_lowest=True)"
   ]
  },
  {
   "cell_type": "markdown",
   "id": "82c13904-4900-4bad-8b29-1e5a3fe1c5df",
   "metadata": {},
   "source": [
    "### 시각화(전체 분포)"
   ]
  },
  {
   "cell_type": "code",
   "execution_count": 27,
   "id": "3256f77c-127f-44fe-a7e1-1e103dc67f01",
   "metadata": {},
   "outputs": [
    {
     "data": {
      "image/png": "[encoded data removed]",
      "text/plain": [
       "<Figure size 1200x600 with 1 Axes>"
      ]
     },
     "metadata": {},
     "output_type": "display_data"
    }
   ],
   "source": [
    "def plot_grade_dist(df, grade_col, title):\n",
    "    df[grade_col].value_counts().sort_index().plot(kind='bar')\n",
    "    plt.title(title)\n",
    "    plt.xlabel('등급')\n",
    "    plt.ylabel('선수 수')\n",
    "    plt.show()\n",
    "\n",
    "#plot_grade_dist(df, '등급_FA', 'KBO 공식 FA 등급제 등급별 선수 수')\n",
    "#plot_grade_dist(df, '등급_분위수', '분위수 기준 등급별 선수 수')\n",
    "#plot_grade_dist(df, '등급_팀내순위', '팀 내 연봉 순위 기준 등급별 선수 수')\n",
    "#plot_grade_dist(df, '등급_차등분위', '차등 등급별 선수 수')\n",
    "#plot_grade_dist(df, '등급_직접설정', '범위 설정 기준 등급별 선수 수')\n",
    "#plot_grade_dist(df, '등급_슈퍼스타', '6등급 기준 등급별 선수 수')\n",
    "plot_grade_dist(df, '등급_혼합', '6등급 기준 등급별 선수 수')"
   ]
  },
  {
   "cell_type": "markdown",
   "id": "aa5b0074-db5d-4443-a662-931a2a5946c5",
   "metadata": {},
   "source": [
    "### 시각화 (구단별 분포)"
   ]
  },
  {
   "cell_type": "code",
   "execution_count": null,
   "id": "86deec04-47b0-4871-9793-1a514db292d6",
   "metadata": {},
   "outputs": [],
   "source": [
    "def plot_team_grade_dist(df, grade_col, title):\n",
    "    ct = pd.crosstab(df['팀'], df[grade_col])\n",
    "    ct.plot(kind='bar', stacked=True, figsize=(10,5))\n",
    "    plt.title(title)\n",
    "    plt.xlabel('구단')\n",
    "    plt.ylabel('선수 수')\n",
    "    plt.legend(title='등급')\n",
    "    plt.show()\n",
    "\n",
    "plot_team_grade_dist(df, '등급_FA', '구단별 KBO 공식 FA 등급제')\n",
    "plot_team_grade_dist(df, '등급_분위수', '구단별 분위수 기준')\n",
    "plot_team_grade_dist(df, '등급_팀내순위', '구단별 팀 내 연봉 순위 기준')"
   ]
  },
  {
   "cell_type": "code",
   "execution_count": null,
   "id": "b32728b7-b30a-46f8-a9ba-799ea4fd3bfe",
   "metadata": {},
   "outputs": [],
   "source": [
    "import requests\n",
    "from bs4 import BeautifulSoup\n",
    "\n",
    "url = \"https://statiz.sporki.com/season/?m=teamoverall&year=2024\"\n",
    "headers = {\"User-Agent\": \"Mozilla/5.0\"}\n",
    "res = requests.get(url, headers=headers)\n",
    "soup = BeautifulSoup(res.text, \"html.parser\")\n",
    "\n",
    "# 페이지 내 모든 테이블 불러오기\n",
    "tables = pd.read_html(res.text)\n",
    "\n",
    "rank_team = tables[1]\n",
    "rank_team"
   ]
  }
 ],
 "metadata": {
  "kernelspec": {
   "display_name": "Python [conda env:base] *",
   "language": "python",
   "name": "conda-base-py"
  },
  "language_info": {
   "codemirror_mode": {
    "name": "ipython",
    "version": 3
   },
   "file_extension": ".py",
   "mimetype": "text/x-python",
   "name": "python",
   "nbconvert_exporter": "python",
   "pygments_lexer": "ipython3",
   "version": "3.12.7"
  }
 },
 "nbformat": 4,
 "nbformat_minor": 5
}
