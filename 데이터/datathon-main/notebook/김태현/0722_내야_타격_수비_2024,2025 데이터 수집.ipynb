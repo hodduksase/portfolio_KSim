{
 "cells": [
  {
   "cell_type": "code",
   "execution_count": 1,
   "id": "56b1fc2d-70fe-4ad4-ad6b-f233802ed647",
   "metadata": {},
   "outputs": [],
   "source": [
    "import pandas as pd\n",
    "import requests\n",
    "\n",
    "# 경고 뜨지 않게 설정\n",
    "import warnings\n",
    "warnings.filterwarnings('ignore')"
   ]
  },
  {
   "cell_type": "code",
   "execution_count": 15,
   "id": "60fcb7e8-766a-4ab7-83de-23732c7651dc",
   "metadata": {},
   "outputs": [
    {
     "name": "stdout",
     "output_type": "stream",
     "text": [
      "2024년 통합 타격/수비 데이터 저장 완료!\n",
      "2025년 통합 타격/수비 데이터 저장 완료!\n"
     ]
    }
   ],
   "source": [
    "positions = {\n",
    "    '1루수': 3,\n",
    "    '2루수': 4,\n",
    "    '3루수': 5,\n",
    "    '유격수': 6\n",
    "}\n",
    "years = [2024, 2025]\n",
    "\n",
    "base_url_batting = \"https://statiz.sporki.com/stats/?m=main&m2=batting&m3=default&so=WAR&ob=DESC\"\n",
    "base_url_fielding = \"https://statiz.sporki.com/stats/?m=main&m2=fielding&m3=default&so=WAAwithPOS&ob=DESC\"\n",
    "\n",
    "for year in years:\n",
    "    dfs_bat = []   # 타격 데이터 저장용\n",
    "    dfs_fld = []   # 수비 데이터 저장용\n",
    "    for pos_name, po in positions.items():\n",
    "        # 타격 데이터\n",
    "        url_bat = f\"{base_url_batting}&year={year}&po={po}&lt=10100&reg=A&pr=100&ls=1\"\n",
    "        response_bat = requests.get(url_bat, headers={\"User-Agent\":\"Mozilla/5.0\"})\n",
    "        response_bat.encoding = \"utf-8\"\n",
    "        tables_bat = pd.read_html(response_bat.text)\n",
    "        df_bat = tables_bat[0]\n",
    "        df_bat['포지션'] = pos_name   # 포지션 정보 추가\n",
    "        dfs_bat.append(df_bat)\n",
    "\n",
    "        # 수비 데이터\n",
    "        url_fld = f\"{base_url_fielding}&year={year}&po={po}&lt=10100&reg=A&pr=100&ls=1\"\n",
    "        response_fld = requests.get(url_fld, headers={\"User-Agent\":\"Mozilla/5.0\"})\n",
    "        response_fld.encoding = \"utf-8\"\n",
    "        tables_fld = pd.read_html(response_fld.text)\n",
    "        df_fld = tables_fld[0]\n",
    "        df_fld['포지션'] = pos_name\n",
    "        dfs_fld.append(df_fld)\n",
    "\n",
    "    # 연도별로 합치기\n",
    "    all_bat = pd.concat(dfs_bat, ignore_index=True)\n",
    "    all_fld = pd.concat(dfs_fld, ignore_index=True)\n",
    "    all_bat.to_csv(f\"statiz_infielders_batting_{year}.csv\", index=False, encoding='utf-8-sig')\n",
    "    all_fld.to_csv(f\"statiz_infielders_fielding_{year}.csv\", index=False, encoding='utf-8-sig')\n",
    "    print(f\"{year}년 통합 타격/수비 데이터 저장 완료!\")"
   ]
  },
  {
   "cell_type": "code",
   "execution_count": null,
   "id": "982cea41-b7ef-4836-8bab-95623cfd9e92",
   "metadata": {},
   "outputs": [],
   "source": [
    "10/0"
   ]
  },
  {
   "cell_type": "code",
   "execution_count": 2,
   "id": "8d4ce2e6-f11e-4b81-b06b-b232395eb86e",
   "metadata": {},
   "outputs": [],
   "source": [
    "positions = {\n",
    "    '1루수': 3,\n",
    "    '2루수': 4,\n",
    "    '3루수': 5,\n",
    "    '유격수': 6\n",
    "}\n",
    "years = [2024, 2025]\n",
    "\n",
    "base_url_batting = \"https://statiz.sporki.com/stats/?m=main&m2=batting&m3=default&so=WAR&ob=DESC\"\n",
    "base_url_fielding = \"https://statiz.sporki.com/stats/?m=main&m2=fielding&m3=default&so=WAAwithPOS&ob=DESC\""
   ]
  },
  {
   "cell_type": "code",
   "execution_count": 3,
   "id": "1d15d405-f61a-491e-b455-65ebce274ca2",
   "metadata": {},
   "outputs": [
    {
     "name": "stdout",
     "output_type": "stream",
     "text": [
      "2024년 1루수 타격/수비 데이터 저장 완료!\n",
      "2024년 2루수 타격/수비 데이터 저장 완료!\n",
      "2024년 3루수 타격/수비 데이터 저장 완료!\n",
      "2024년 유격수 타격/수비 데이터 저장 완료!\n",
      "2025년 1루수 타격/수비 데이터 저장 완료!\n",
      "2025년 2루수 타격/수비 데이터 저장 완료!\n",
      "2025년 3루수 타격/수비 데이터 저장 완료!\n",
      "2025년 유격수 타격/수비 데이터 저장 완료!\n"
     ]
    }
   ],
   "source": [
    "for year in years:\n",
    "    for pos_name, po in positions.items():\n",
    "        # 타격 데이터 수집\n",
    "        url_bat = f\"{base_url_batting}&year={year}&po={po}&lt=10100&reg=A\"\n",
    "        response_bat = requests.get(url_bat, headers={\"User-Agent\":\"Mozilla/5.0\"})\n",
    "        response_bat.encoding = \"utf-8\"\n",
    "        tables_bat = pd.read_html(response_bat.text)\n",
    "        df_bat = tables_bat[0]\n",
    "        df_bat.to_csv(f\"statiz_{pos_name}_batting_{year}.csv\", index=False, encoding='utf-8-sig')\n",
    "\n",
    "        # 수비 데이터 수집\n",
    "        url_fld = f\"{base_url_fielding}&year={year}&po={po}&lt=10100&reg=A\"\n",
    "        response_fld = requests.get(url_fld, headers={\"User-Agent\":\"Mozilla/5.0\"})\n",
    "        response_fld.encoding = \"utf-8\"\n",
    "        tables_fld = pd.read_html(response_fld.text)\n",
    "        df_fld = tables_fld[0]\n",
    "        df_fld.to_csv(f\"statiz_{pos_name}_fielding_{year}.csv\", index=False, encoding='utf-8-sig')\n",
    "\n",
    "        print(f\"{year}년 {pos_name} 타격/수비 데이터 저장 완료!\")"
   ]
  },
  {
   "cell_type": "code",
   "execution_count": null,
   "id": "1e1170f2-f3c4-470b-828b-f7649593a1da",
   "metadata": {},
   "outputs": [],
   "source": []
  }
 ],
 "metadata": {
  "kernelspec": {
   "display_name": "Python [conda env:base] *",
   "language": "python",
   "name": "conda-base-py"
  },
  "language_info": {
   "codemirror_mode": {
    "name": "ipython",
    "version": 3
   },
   "file_extension": ".py",
   "mimetype": "text/x-python",
   "name": "python",
   "nbconvert_exporter": "python",
   "pygments_lexer": "ipython3",
   "version": "3.12.7"
  }
 },
 "nbformat": 4,
 "nbformat_minor": 5
}
