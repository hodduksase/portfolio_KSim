{
  "nbformat": 4,
  "nbformat_minor": 0,
  "metadata": {
    "colab": {
      "provenance": [],
      "machine_shape": "hm",
      "gpuType": "A100"
    },
    "kernelspec": {
      "name": "python3",
      "display_name": "Python 3"
    },
    "language_info": {
      "name": "python"
    },
    "accelerator": "GPU"
  },
  "cells": [
    {
      "cell_type": "code",
      "source": [
        "from psutil import virtual_memory\n",
        "ram_gb = virtual_memory().total / 1e9\n",
        "print('{:.1f}GB RAM\\n'.format(ram_gb))\n",
        "\n",
        "if ram_gb < 20:\n",
        "  print('고성능 램 사용 안하고 있네')\n",
        "else:\n",
        "  print('고성능 램 사용중ㅋ!')"
      ],
      "metadata": {
        "id": "xcFDKXtL1ePh",
        "colab": {
          "base_uri": "https://localhost:8080/"
        },
        "outputId": "1d4d6b91-5ff6-4a18-995b-ee49530d336c"
      },
      "execution_count": null,
      "outputs": [
        {
          "output_type": "stream",
          "name": "stdout",
          "text": [
            "89.6GB RAM\n",
            "\n",
            "고성능 램 사용중ㅋ!\n"
          ]
        }
      ]
    },
    {
      "cell_type": "markdown",
      "source": [
        "# package install"
      ],
      "metadata": {
        "id": "R5VuVqanzlm5"
      }
    },
    {
      "cell_type": "code",
      "execution_count": null,
      "metadata": {
        "colab": {
          "base_uri": "https://localhost:8080/"
        },
        "id": "Kl1Nvwc2xrgu",
        "outputId": "d7eb0223-4e14-4669-9cf6-60b00a61e3d8"
      },
      "outputs": [
        {
          "output_type": "stream",
          "name": "stdout",
          "text": [
            "Collecting catboost==1.2.8\n",
            "  Downloading catboost-1.2.8-cp311-cp311-manylinux2014_x86_64.whl.metadata (1.2 kB)\n",
            "Requirement already satisfied: graphviz in /usr/local/lib/python3.11/dist-packages (from catboost==1.2.8) (0.21)\n",
            "Requirement already satisfied: matplotlib in /usr/local/lib/python3.11/dist-packages (from catboost==1.2.8) (3.10.0)\n",
            "Requirement already satisfied: numpy<3.0,>=1.16.0 in /usr/local/lib/python3.11/dist-packages (from catboost==1.2.8) (2.0.2)\n",
            "Requirement already satisfied: pandas>=0.24 in /usr/local/lib/python3.11/dist-packages (from catboost==1.2.8) (2.2.2)\n",
            "Requirement already satisfied: scipy in /usr/local/lib/python3.11/dist-packages (from catboost==1.2.8) (1.15.3)\n",
            "Requirement already satisfied: plotly in /usr/local/lib/python3.11/dist-packages (from catboost==1.2.8) (5.24.1)\n",
            "Requirement already satisfied: six in /usr/local/lib/python3.11/dist-packages (from catboost==1.2.8) (1.17.0)\n",
            "Requirement already satisfied: python-dateutil>=2.8.2 in /usr/local/lib/python3.11/dist-packages (from pandas>=0.24->catboost==1.2.8) (2.9.0.post0)\n",
            "Requirement already satisfied: pytz>=2020.1 in /usr/local/lib/python3.11/dist-packages (from pandas>=0.24->catboost==1.2.8) (2025.2)\n",
            "Requirement already satisfied: tzdata>=2022.7 in /usr/local/lib/python3.11/dist-packages (from pandas>=0.24->catboost==1.2.8) (2025.2)\n",
            "Requirement already satisfied: contourpy>=1.0.1 in /usr/local/lib/python3.11/dist-packages (from matplotlib->catboost==1.2.8) (1.3.2)\n",
            "Requirement already satisfied: cycler>=0.10 in /usr/local/lib/python3.11/dist-packages (from matplotlib->catboost==1.2.8) (0.12.1)\n",
            "Requirement already satisfied: fonttools>=4.22.0 in /usr/local/lib/python3.11/dist-packages (from matplotlib->catboost==1.2.8) (4.58.4)\n",
            "Requirement already satisfied: kiwisolver>=1.3.1 in /usr/local/lib/python3.11/dist-packages (from matplotlib->catboost==1.2.8) (1.4.8)\n",
            "Requirement already satisfied: packaging>=20.0 in /usr/local/lib/python3.11/dist-packages (from matplotlib->catboost==1.2.8) (24.2)\n",
            "Requirement already satisfied: pillow>=8 in /usr/local/lib/python3.11/dist-packages (from matplotlib->catboost==1.2.8) (11.2.1)\n",
            "Requirement already satisfied: pyparsing>=2.3.1 in /usr/local/lib/python3.11/dist-packages (from matplotlib->catboost==1.2.8) (3.2.3)\n",
            "Requirement already satisfied: tenacity>=6.2.0 in /usr/local/lib/python3.11/dist-packages (from plotly->catboost==1.2.8) (8.5.0)\n",
            "Downloading catboost-1.2.8-cp311-cp311-manylinux2014_x86_64.whl (99.2 MB)\n",
            "\u001b[2K   \u001b[90m━━━━━━━━━━━━━━━━━━━━━━━━━━━━━━━━━━━━━━━━\u001b[0m \u001b[32m99.2/99.2 MB\u001b[0m \u001b[31m25.3 MB/s\u001b[0m eta \u001b[36m0:00:00\u001b[0m\n",
            "\u001b[?25hInstalling collected packages: catboost\n",
            "Successfully installed catboost-1.2.8\n",
            "Collecting optuna==4.4.0\n",
            "  Downloading optuna-4.4.0-py3-none-any.whl.metadata (17 kB)\n",
            "Collecting alembic>=1.5.0 (from optuna==4.4.0)\n",
            "  Downloading alembic-1.16.2-py3-none-any.whl.metadata (7.3 kB)\n",
            "Collecting colorlog (from optuna==4.4.0)\n",
            "  Downloading colorlog-6.9.0-py3-none-any.whl.metadata (10 kB)\n",
            "Requirement already satisfied: numpy in /usr/local/lib/python3.11/dist-packages (from optuna==4.4.0) (2.0.2)\n",
            "Requirement already satisfied: packaging>=20.0 in /usr/local/lib/python3.11/dist-packages (from optuna==4.4.0) (24.2)\n",
            "Requirement already satisfied: sqlalchemy>=1.4.2 in /usr/local/lib/python3.11/dist-packages (from optuna==4.4.0) (2.0.41)\n",
            "Requirement already satisfied: tqdm in /usr/local/lib/python3.11/dist-packages (from optuna==4.4.0) (4.67.1)\n",
            "Requirement already satisfied: PyYAML in /usr/local/lib/python3.11/dist-packages (from optuna==4.4.0) (6.0.2)\n",
            "Requirement already satisfied: Mako in /usr/lib/python3/dist-packages (from alembic>=1.5.0->optuna==4.4.0) (1.1.3)\n",
            "Requirement already satisfied: typing-extensions>=4.12 in /usr/local/lib/python3.11/dist-packages (from alembic>=1.5.0->optuna==4.4.0) (4.14.0)\n",
            "Requirement already satisfied: greenlet>=1 in /usr/local/lib/python3.11/dist-packages (from sqlalchemy>=1.4.2->optuna==4.4.0) (3.2.3)\n",
            "Downloading optuna-4.4.0-py3-none-any.whl (395 kB)\n",
            "\u001b[2K   \u001b[90m━━━━━━━━━━━━━━━━━━━━━━━━━━━━━━━━━━━━━━━━\u001b[0m \u001b[32m395.9/395.9 kB\u001b[0m \u001b[31m8.9 MB/s\u001b[0m eta \u001b[36m0:00:00\u001b[0m\n",
            "\u001b[?25hDownloading alembic-1.16.2-py3-none-any.whl (242 kB)\n",
            "\u001b[2K   \u001b[90m━━━━━━━━━━━━━━━━━━━━━━━━━━━━━━━━━━━━━━━━\u001b[0m \u001b[32m242.7/242.7 kB\u001b[0m \u001b[31m23.5 MB/s\u001b[0m eta \u001b[36m0:00:00\u001b[0m\n",
            "\u001b[?25hDownloading colorlog-6.9.0-py3-none-any.whl (11 kB)\n",
            "Installing collected packages: colorlog, alembic, optuna\n",
            "Successfully installed alembic-1.16.2 colorlog-6.9.0 optuna-4.4.0\n"
          ]
        }
      ],
      "source": [
        "!pip install catboost==1.2.8\n",
        "!pip install optuna==4.4.0"
      ]
    },
    {
      "cell_type": "markdown",
      "source": [
        "# package load"
      ],
      "metadata": {
        "id": "6lYnz9IMzvA2"
      }
    },
    {
      "cell_type": "code",
      "source": [
        "from catboost import CatBoostClassifier, Pool\n",
        "from sklearn.model_selection import train_test_split\n",
        "from sklearn.model_selection import StratifiedKFold\n",
        "from sklearn.metrics import accuracy_score\n",
        "from sklearn.preprocessing import LabelEncoder\n",
        "import matplotlib.pyplot as plt\n",
        "import seaborn as sns\n",
        "import pandas as pd\n",
        "import numpy as np\n",
        "import optuna\n",
        "import os"
      ],
      "metadata": {
        "id": "EoOMKvctzy3T"
      },
      "execution_count": null,
      "outputs": []
    },
    {
      "cell_type": "markdown",
      "source": [
        "# data load , seed"
      ],
      "metadata": {
        "id": "S_Uf7lTjz0ky"
      }
    },
    {
      "cell_type": "code",
      "source": [
        "test = pd.read_parquet('test.parquet')\n",
        "train = pd.read_parquet('train.parquet')\n",
        "\n",
        "seed = 14"
      ],
      "metadata": {
        "id": "jgD80oIDyjqp"
      },
      "execution_count": null,
      "outputs": []
    },
    {
      "cell_type": "markdown",
      "source": [
        "# target data(Segment) C,D,E 모델링"
      ],
      "metadata": {
        "id": "H6zdOahIz90X"
      }
    },
    {
      "cell_type": "code",
      "source": [
        "ab_ids = train[train['Segment'].isin(['A', 'B'])]['ID'].unique()\n",
        "\n",
        "train = train[~train['ID'].isin(ab_ids)].copy()"
      ],
      "metadata": {
        "id": "q90sOML7z3Oy"
      },
      "execution_count": null,
      "outputs": []
    },
    {
      "cell_type": "code",
      "source": [
        "train['Segment'].value_counts()"
      ],
      "metadata": {
        "colab": {
          "base_uri": "https://localhost:8080/",
          "height": 210
        },
        "id": "UfL8tPVz4nyW",
        "outputId": "a5d2f84e-a730-4513-bf39-d483a4a936d0"
      },
      "execution_count": null,
      "outputs": [
        {
          "output_type": "execute_result",
          "data": {
            "text/plain": [
              "Segment\n",
              "E    1922052\n",
              "D     349242\n",
              "C     127590\n",
              "Name: count, dtype: int64"
            ],
            "text/html": [
              "<div>\n",
              "<style scoped>\n",
              "    .dataframe tbody tr th:only-of-type {\n",
              "        vertical-align: middle;\n",
              "    }\n",
              "\n",
              "    .dataframe tbody tr th {\n",
              "        vertical-align: top;\n",
              "    }\n",
              "\n",
              "    .dataframe thead th {\n",
              "        text-align: right;\n",
              "    }\n",
              "</style>\n",
              "<table border=\"1\" class=\"dataframe\">\n",
              "  <thead>\n",
              "    <tr style=\"text-align: right;\">\n",
              "      <th></th>\n",
              "      <th>count</th>\n",
              "    </tr>\n",
              "    <tr>\n",
              "      <th>Segment</th>\n",
              "      <th></th>\n",
              "    </tr>\n",
              "  </thead>\n",
              "  <tbody>\n",
              "    <tr>\n",
              "      <th>E</th>\n",
              "      <td>1922052</td>\n",
              "    </tr>\n",
              "    <tr>\n",
              "      <th>D</th>\n",
              "      <td>349242</td>\n",
              "    </tr>\n",
              "    <tr>\n",
              "      <th>C</th>\n",
              "      <td>127590</td>\n",
              "    </tr>\n",
              "  </tbody>\n",
              "</table>\n",
              "</div><br><label><b>dtype:</b> int64</label>"
            ]
          },
          "metadata": {},
          "execution_count": 18
        }
      ]
    },
    {
      "cell_type": "code",
      "source": [
        "label_encoder = LabelEncoder()\n",
        "train['Segment'] = label_encoder.fit_transform(train['Segment'])\n",
        "\n",
        "X = train.drop(columns=['Segment', 'ID'])\n",
        "y = train['Segment']\n",
        "X_test = test.drop(columns=['ID'])\n",
        "\n",
        "cat_features = [col for col in X.columns if X[col].dtype == 'object']\n",
        "for col in cat_features:\n",
        "    X[col] = X[col].astype(str)\n",
        "    X_test[col] = X_test[col].astype(str)"
      ],
      "metadata": {
        "id": "uU58-k5t5DHW"
      },
      "execution_count": null,
      "outputs": []
    },
    {
      "cell_type": "code",
      "source": [
        "def objective(trial):\n",
        "    bootstrap_type = trial.suggest_categorical('bootstrap_type', ['Bayesian', 'Bernoulli'])\n",
        "\n",
        "    params = {\n",
        "        'iterations': 1500,\n",
        "        'learning_rate': trial.suggest_float(\"learning_rate\", 0.01, 0.3),\n",
        "        'depth': 8,\n",
        "        'l2_leaf_reg': trial.suggest_float(\"l2_leaf_reg\", 1.0, 10.0),\n",
        "        'random_strength': trial.suggest_float(\"random_strength\", 1e-9, 10.0),\n",
        "        'border_count': trial.suggest_int(\"border_count\", 32, 255),\n",
        "        'bootstrap_type': bootstrap_type,\n",
        "        'task_type': 'GPU',\n",
        "        'loss_function': 'MultiClass',\n",
        "        'eval_metric': 'Accuracy',\n",
        "        'verbose': 0,\n",
        "        'random_seed': seed,\n",
        "        'class_weights': [2, 1, 1]\n",
        "    }\n",
        "\n",
        "    if bootstrap_type == 'Bayesian':\n",
        "        params['bagging_temperature'] = trial.suggest_float(\"bagging_temperature\", 0.0, 1.0)\n",
        "    else:\n",
        "        params['subsample'] = trial.suggest_float(\"subsample\", 0.5, 1.0)\n",
        "\n",
        "    X_train_sub, X_valid, y_train_sub, y_valid = train_test_split(\n",
        "        X, y, test_size=0.2, stratify=y, random_state=seed\n",
        "    )\n",
        "\n",
        "    model = CatBoostClassifier(**params)\n",
        "    model.fit(\n",
        "        X_train_sub, y_train_sub,\n",
        "        eval_set=(X_valid, y_valid),\n",
        "        cat_features=cat_features,\n",
        "        use_best_model=True,\n",
        "        early_stopping_rounds=100\n",
        "    )\n",
        "\n",
        "    preds = model.predict(X_valid)\n",
        "    score = accuracy_score(y_valid, preds)\n",
        "    return score\n",
        "\n",
        "study = optuna.create_study(direction='maximize')\n",
        "study.optimize(objective, n_trials=5)\n",
        "\n",
        "best_params = study.best_trial.params\n",
        "\n",
        "if best_params['bootstrap_type'] == 'Bayesian':\n",
        "    best_params['bagging_temperature'] = study.best_trial.params['bagging_temperature']\n",
        "else:\n",
        "    best_params['subsample'] = study.best_trial.params['subsample']\n",
        "\n",
        "best_params.update({\n",
        "    'iterations': 1500,\n",
        "    'loss_function': 'MultiClass',\n",
        "    'eval_metric': 'Accuracy',\n",
        "    'task_type': 'GPU',\n",
        "    'verbose': 100,\n",
        "    'random_seed': seed,\n",
        "    'class_weights': [2, 1, 1],\n",
        "    'depth': 8\n",
        "})"
      ],
      "metadata": {
        "id": "OHWdyFjR0Mph",
        "colab": {
          "base_uri": "https://localhost:8080/"
        },
        "collapsed": true,
        "outputId": "55fde0c4-ae6b-4ad3-ba9b-7ca35d9ce849"
      },
      "execution_count": null,
      "outputs": [
        {
          "output_type": "stream",
          "name": "stderr",
          "text": [
            "[I 2025-07-04 01:02:32,020] A new study created in memory with name: no-name-5ad85e47-f1f8-464d-8cd7-acb21f2322e9\n",
            "[I 2025-07-04 01:05:25,753] Trial 0 finished with value: 0.91829745902784 and parameters: {'bootstrap_type': 'Bayesian', 'learning_rate': 0.031126218929141865, 'l2_leaf_reg': 3.2117801620371713, 'random_strength': 9.40980091890208, 'border_count': 92, 'bagging_temperature': 0.9174011036432065}. Best is trial 0 with value: 0.91829745902784.\n",
            "[I 2025-07-04 01:08:09,299] Trial 1 finished with value: 0.9515191432686435 and parameters: {'bootstrap_type': 'Bernoulli', 'learning_rate': 0.2554375200445523, 'l2_leaf_reg': 5.279459764780301, 'random_strength': 5.251811112179216, 'border_count': 66, 'subsample': 0.7434723063830708}. Best is trial 1 with value: 0.9515191432686435.\n",
            "[I 2025-07-04 01:11:16,365] Trial 2 finished with value: 0.9513336404204453 and parameters: {'bootstrap_type': 'Bayesian', 'learning_rate': 0.2765678650427539, 'l2_leaf_reg': 1.9907835192618228, 'random_strength': 1.7539135941527577, 'border_count': 237, 'bagging_temperature': 0.7556925250058075}. Best is trial 1 with value: 0.9515191432686435.\n",
            "[I 2025-07-04 01:14:22,988] Trial 3 finished with value: 0.9091536276228331 and parameters: {'bootstrap_type': 'Bernoulli', 'learning_rate': 0.015225045065947074, 'l2_leaf_reg': 3.945634041924483, 'random_strength': 7.089328885363306, 'border_count': 195, 'subsample': 0.8848888194136539}. Best is trial 1 with value: 0.9515191432686435.\n"
          ]
        }
      ]
    },
    {
      "cell_type": "code",
      "source": [
        "n_classes = len(np.unique(y))\n",
        "kf = StratifiedKFold(n_splits=10, shuffle=True, random_state=seed)\n",
        "all_test_probs = np.zeros((X_test.shape[0], n_classes))\n",
        "\n",
        "for fold, (train_idx, valid_idx) in enumerate(kf.split(X, y)):\n",
        "    print(f\"🚀 Fold {fold+1} training...\")\n",
        "\n",
        "    X_train_fold, y_train_fold = X.iloc[train_idx], y.iloc[train_idx]\n",
        "    X_valid_fold, y_valid_fold = X.iloc[valid_idx], y.iloc[valid_idx]\n",
        "\n",
        "    model = CatBoostClassifier(**best_params)\n",
        "    model.fit(X_train_fold, y_train_fold, cat_features=cat_features)\n",
        "\n",
        "    fold_probs = model.predict_proba(X_test)\n",
        "    all_test_probs += fold_probs\n",
        "\n",
        "    # 변수 중요도 파악을 위한 수집\n",
        "    importances = model.get_feature_importance()\n",
        "    importances_list.append(importances)\n",
        "\n",
        "# 변수 중요도 파악\n",
        "mean_importances = np.mean(importances_list, axis=0)\n",
        "feature_names = X.columns\n",
        "importance_df = pd.DataFrame({'Feature': feature_names, 'Importance': mean_importances})\n",
        "importance_df = importance_df.sort_values(by='Importance', ascending=False)\n",
        "\n",
        "# 시각화\n",
        "plt.figure(figsize=(10, 8))\n",
        "sns.barplot(data=importance_df.head(20), x='Importance', y='Feature', palette='magma')\n",
        "plt.title(\"Average Feature Importances (Across 10 Folds)\")\n",
        "plt.tight_layout()\n",
        "plt.show()\n",
        "\n",
        "avg_test_probs = all_test_probs / kf.get_n_splits()\n",
        "prob_df = pd.DataFrame(avg_test_probs, columns=range(n_classes))\n",
        "prob_df['ID'] = test['ID'].values\n",
        "\n",
        "mean_probs = prob_df.groupby('ID').mean().reset_index()\n",
        "mean_probs['Segment'] = mean_probs.drop(columns='ID').values.argmax(axis=1)\n",
        "\n",
        "segment_mapping = {0: 'C', 1: 'D', 2: 'E'}\n",
        "mean_probs['Segment'] = mean_probs['Segment'].map(segment_mapping)\n",
        "\n",
        "submission = pd.DataFrame({'ID': mean_probs['ID'], 'Segment': mean_probs['Segment']})\n",
        "submission.to_csv('base_catboost_kfold.csv', index=False)\n",
        "\n",
        "print(\"예측 완료\")"
      ],
      "metadata": {
        "id": "c5fnWJU5-iP_"
      },
      "execution_count": null,
      "outputs": []
    },
    {
      "cell_type": "markdown",
      "source": [
        "# target data(Segment) A 모델링"
      ],
      "metadata": {
        "id": "Jvm_McnGrNix"
      }
    },
    {
      "cell_type": "code",
      "source": [
        "train_A = train[train['Segment'] == 'A']\n",
        "\n",
        "cols_to_check = [col for col in train.columns if col not in ['ID', 'Segment']]\n",
        "\n",
        "def is_fixed_column(df, col):\n",
        "    return df[col].nunique() == 1\n",
        "\n",
        "fixed_columns_A = {col: train_A[col].iloc[0] for col in cols_to_check if is_fixed_column(train_A, col)}\n",
        "max_column_values = fixed_columns_A.copy()\n",
        "\n",
        "fixed_cols = list(max_column_values.keys())\n",
        "\n",
        "print(f\"📦 고정된 칼럼 {len(fixed_cols)}개 제거할 예정입니다.\")"
      ],
      "metadata": {
        "colab": {
          "base_uri": "https://localhost:8080/"
        },
        "id": "K5iDlnbc8OzK",
        "outputId": "32ca1f27-9b90-4ccc-eec5-b268863f9f69"
      },
      "execution_count": null,
      "outputs": [
        {
          "output_type": "stream",
          "name": "stdout",
          "text": [
            "📦 고정된 칼럼 85개 제거할 예정입니다.\n"
          ]
        }
      ]
    },
    {
      "cell_type": "code",
      "source": [
        "matching_ids_train = train.copy()\n",
        "for col, value in max_column_values.items():\n",
        "    matching_ids_train = matching_ids_train[matching_ids_train[col] == value]\n",
        "\n",
        "matching_ids_train_grouped = matching_ids_train.groupby('ID').filter(lambda x: len(x) == 6)\n",
        "matching_ids_train_list = matching_ids_train_grouped['ID'].unique()\n",
        "\n",
        "matching_ids_test = test.copy()\n",
        "for col, value in max_column_values.items():\n",
        "    matching_ids_test = matching_ids_test[matching_ids_test[col] == value]\n",
        "\n",
        "matching_ids_test_grouped = matching_ids_test.groupby('ID').filter(lambda x: len(x) == 6)\n",
        "matching_ids_test_list = matching_ids_test_grouped['ID'].unique()\n",
        "\n",
        "train_filtered = train[train['ID'].isin(matching_ids_train_list)].drop(columns=fixed_cols)\n",
        "test_filtered = test[test['ID'].isin(matching_ids_test_list)].drop(columns=fixed_cols)\n",
        "\n",
        "print(f\"🚀 최종 train 데이터 shape: {train_filtered.shape}\")\n",
        "print(f\"🚀 최종 test 데이터 shape: {test_filtered.shape}\")"
      ],
      "metadata": {
        "colab": {
          "base_uri": "https://localhost:8080/"
        },
        "id": "wpTDmMPwrXvw",
        "outputId": "ec209d8f-7a28-4d8d-e0e4-c3ae8563e665"
      },
      "execution_count": null,
      "outputs": [
        {
          "output_type": "stream",
          "name": "stdout",
          "text": [
            "🚀 최종 train 데이터 shape: (249594, 660)\n",
            "🚀 최종 test 데이터 shape: (62586, 659)\n"
          ]
        }
      ]
    },
    {
      "cell_type": "code",
      "source": [
        "label_encoder = LabelEncoder()\n",
        "train_filtered['Segment'] = label_encoder.fit_transform(train_filtered['Segment'])\n",
        "\n",
        "X = train_filtered.drop(columns=['Segment', 'ID'])\n",
        "y = train_filtered['Segment']\n",
        "X_test = test_filtered.drop(columns=['ID'])\n",
        "\n",
        "cat_features = [col for col in X.columns if X[col].dtype == 'object']\n",
        "for col in cat_features:\n",
        "    X[col] = X[col].astype(str)\n",
        "    X_test[col] = X_test[col].astype(str)\n",
        "\n",
        "params = {\n",
        "    'iterations': 2000,\n",
        "    'learning_rate': 0.05,\n",
        "    'depth': 6,\n",
        "    'loss_function': 'MultiClass',\n",
        "    'eval_metric': 'Accuracy', # 기존엔 'MultiClass'였음.\n",
        "    'verbose': 100,\n",
        "    'random_seed': seed,\n",
        "    'task_type': 'GPU',\n",
        "    'class_weights': [20, 50, 2, 1, 1],\n",
        "}\n",
        "\n",
        "n_classes = 5\n",
        "kf = StratifiedKFold(n_splits=10, shuffle=True, random_state=seed)\n",
        "\n",
        "print(f\"\\n🚀 단일 Model Run 시작\")\n",
        "\n",
        "all_test_probs = np.zeros((X_test.shape[0], n_classes))\n",
        "\n",
        "for fold, (train_idx, valid_idx) in enumerate(kf.split(X, y)):\n",
        "    print(f\"📂 Fold {fold + 1}\")\n",
        "\n",
        "    X_train_fold, X_valid_fold = X.iloc[train_idx], X.iloc[valid_idx]\n",
        "    y_train_fold, y_valid_fold = y.iloc[train_idx], y.iloc[valid_idx]\n",
        "\n",
        "    model = CatBoostClassifier(**params)\n",
        "    model.fit(\n",
        "        X_train_fold, y_train_fold,\n",
        "        eval_set=(X_valid_fold, y_valid_fold),\n",
        "        cat_features=cat_features,\n",
        "        early_stopping_rounds=100,\n",
        "        use_best_model=True\n",
        "    )\n",
        "\n",
        "    test_probs = model.predict_proba(X_test)\n",
        "    all_test_probs += test_probs\n",
        "\n",
        "    # 변수 중요도 파악을 위한 수집\n",
        "    importances = model.get_feature_importance()\n",
        "    importances_list.append(importances)\n",
        "\n",
        "# 변수 중요도 파악\n",
        "mean_importances = np.mean(importances_list, axis=0)\n",
        "feature_names = X.columns\n",
        "importance_df = pd.DataFrame({'Feature': feature_names, 'Importance': mean_importances})\n",
        "importance_df = importance_df.sort_values(by='Importance', ascending=False)\n",
        "\n",
        "# 시각화\n",
        "plt.figure(figsize=(10, 8))\n",
        "sns.barplot(data=importance_df.head(20), x='Importance', y='Feature', palette='magma')\n",
        "plt.title(\"Average Feature Importances (Across 10 Folds)\")\n",
        "plt.tight_layout()\n",
        "plt.show()\n",
        "\n",
        "avg_test_probs = all_test_probs / kf.get_n_splits()\n",
        "prob_df = pd.DataFrame(avg_test_probs, columns=[0, 1, 2, 3, 4])\n",
        "prob_df['ID'] = test['ID'].values\n",
        "\n",
        "mean_probs = prob_df.groupby('ID').mean().reset_index()\n",
        "mean_probs['Segment'] = mean_probs[[0, 1, 2, 3, 4]].idxmax(axis=1)\n",
        "\n",
        "segment_mapping = {0: 'A', 1: 'B', 2: 'C', 3: 'D', 4: 'E'}\n",
        "mean_probs['Segment'] = mean_probs['Segment'].map(segment_mapping)\n",
        "\n",
        "a_ids = mean_probs.loc[mean_probs['Segment'] == 'A', 'ID'].tolist()\n",
        "\n",
        "print(f\"\\n✅ A로 분류된 ID 수 = {len(a_ids)}개\")\n",
        "print(f\"🔎 A ID: {a_ids[:50]}\")"
      ],
      "metadata": {
        "colab": {
          "base_uri": "https://localhost:8080/"
        },
        "id": "Y_lduzqmr3Q7",
        "outputId": "747404ec-0fd8-4575-97f1-69a0649f9f3b"
      },
      "execution_count": null,
      "outputs": [
        {
          "output_type": "stream",
          "name": "stdout",
          "text": [
            "\n",
            "🚀 단일 Model Run 시작\n",
            "📂 Fold 1\n",
            "0:\tlearn: 0.6375698\ttest: 0.6371470\tbest: 0.6371470 (0)\ttotal: 25.8ms\tremaining: 51.5s\n",
            "100:\tlearn: 0.7270879\ttest: 0.7187509\tbest: 0.7193422 (98)\ttotal: 1.4s\tremaining: 26.3s\n",
            "200:\tlearn: 0.7558886\ttest: 0.7459522\tbest: 0.7462901 (198)\ttotal: 2.76s\tremaining: 24.7s\n",
            "300:\tlearn: 0.7713088\ttest: 0.7585110\tbest: 0.7587926 (298)\ttotal: 4.16s\tremaining: 23.5s\n",
            "400:\tlearn: 0.7829217\ttest: 0.7690705\tbest: 0.7690705 (397)\ttotal: 5.52s\tremaining: 22s\n",
            "500:\tlearn: 0.7922539\ttest: 0.7776870\tbest: 0.7777715 (499)\ttotal: 6.9s\tremaining: 20.6s\n",
            "600:\tlearn: 0.8003347\ttest: 0.7855433\tbest: 0.7855433 (600)\ttotal: 8.27s\tremaining: 19.3s\n",
            "700:\tlearn: 0.8071642\ttest: 0.7905274\tbest: 0.7907527 (699)\ttotal: 9.64s\tremaining: 17.9s\n",
            "800:\tlearn: 0.8136088\ttest: 0.7954552\tbest: 0.7960184 (799)\ttotal: 11s\tremaining: 16.5s\n",
            "900:\tlearn: 0.8191932\ttest: 0.8014248\tbest: 0.8014248 (900)\ttotal: 12.4s\tremaining: 15.1s\n",
            "1000:\tlearn: 0.8246430\ttest: 0.8062118\tbest: 0.8066623 (992)\ttotal: 13.7s\tremaining: 13.7s\n",
            "1100:\tlearn: 0.8294921\ttest: 0.8110269\tbest: 0.8110269 (1100)\ttotal: 15.1s\tremaining: 12.3s\n",
            "1200:\tlearn: 0.8339158\ttest: 0.8147721\tbest: 0.8148284 (1199)\ttotal: 16.5s\tremaining: 11s\n",
            "1300:\tlearn: 0.8379171\ttest: 0.8181793\tbest: 0.8181793 (1300)\ttotal: 17.9s\tremaining: 9.59s\n",
            "1400:\tlearn: 0.8418370\ttest: 0.8195590\tbest: 0.8202067 (1393)\ttotal: 19.2s\tremaining: 8.21s\n",
            "1500:\tlearn: 0.8458352\ttest: 0.8236984\tbest: 0.8238673 (1486)\ttotal: 20.6s\tremaining: 6.83s\n",
            "1600:\tlearn: 0.8491921\ttest: 0.8272464\tbest: 0.8275279 (1596)\ttotal: 21.9s\tremaining: 5.46s\n",
            "1700:\tlearn: 0.8526803\ttest: 0.8309915\tbest: 0.8309915 (1700)\ttotal: 23.3s\tremaining: 4.09s\n",
            "1800:\tlearn: 0.8558432\ttest: 0.8331878\tbest: 0.8333005 (1795)\ttotal: 24.6s\tremaining: 2.72s\n",
            "1900:\tlearn: 0.8587370\ttest: 0.8355813\tbest: 0.8355813 (1900)\ttotal: 25.9s\tremaining: 1.35s\n",
            "1999:\tlearn: 0.8616371\ttest: 0.8372427\tbest: 0.8381438 (1961)\ttotal: 27.3s\tremaining: 0us\n",
            "bestTest = 0.8381437783\n",
            "bestIteration = 1961\n",
            "Shrink model to first 1962 iterations.\n",
            "📂 Fold 2\n",
            "0:\tlearn: 0.6374728\ttest: 0.6345000\tbest: 0.6345000 (0)\ttotal: 21ms\tremaining: 42s\n",
            "100:\tlearn: 0.7281734\ttest: 0.7240166\tbest: 0.7240166 (100)\ttotal: 1.45s\tremaining: 27.2s\n",
            "200:\tlearn: 0.7561795\ttest: 0.7485991\tbest: 0.7486554 (197)\ttotal: 2.84s\tremaining: 25.4s\n",
            "300:\tlearn: 0.7713964\ttest: 0.7652127\tbest: 0.7652127 (300)\ttotal: 4.17s\tremaining: 23.6s\n",
            "400:\tlearn: 0.7835004\ttest: 0.7753217\tbest: 0.7754062 (399)\ttotal: 5.53s\tremaining: 22s\n",
            "500:\tlearn: 0.7930454\ttest: 0.7846422\tbest: 0.7846986 (499)\ttotal: 6.92s\tremaining: 20.7s\n",
            "600:\tlearn: 0.8014892\ttest: 0.7929772\tbest: 0.7932588 (598)\ttotal: 8.35s\tremaining: 19.4s\n",
            "700:\tlearn: 0.8084907\ttest: 0.7986653\tbest: 0.7987216 (697)\ttotal: 9.71s\tremaining: 18s\n",
            "800:\tlearn: 0.8140562\ttest: 0.8022696\tbest: 0.8023822 (797)\ttotal: 11.1s\tremaining: 16.6s\n",
            "900:\tlearn: 0.8198627\ttest: 0.8072537\tbest: 0.8072537 (900)\ttotal: 12.5s\tremaining: 15.2s\n",
            "1000:\tlearn: 0.8250778\ttest: 0.8115901\tbest: 0.8126602 (993)\ttotal: 13.9s\tremaining: 13.8s\n",
            "1100:\tlearn: 0.8298863\ttest: 0.8166868\tbest: 0.8166868 (1099)\ttotal: 15.2s\tremaining: 12.4s\n",
            "1200:\tlearn: 0.8342568\ttest: 0.8202348\tbest: 0.8202348 (1200)\ttotal: 16.6s\tremaining: 11.1s\n",
            "1300:\tlearn: 0.8379640\ttest: 0.8225157\tbest: 0.8225157 (1292)\ttotal: 18s\tremaining: 9.67s\n",
            "1400:\tlearn: 0.8420279\ttest: 0.8258103\tbest: 0.8258103 (1400)\ttotal: 19.4s\tremaining: 8.27s\n",
            "1500:\tlearn: 0.8453753\ttest: 0.8281193\tbest: 0.8283164 (1495)\ttotal: 20.7s\tremaining: 6.89s\n",
            "1600:\tlearn: 0.8491232\ttest: 0.8315828\tbest: 0.8316954 (1591)\ttotal: 22.1s\tremaining: 5.5s\n",
            "1700:\tlearn: 0.8524238\ttest: 0.8338918\tbest: 0.8341171 (1688)\ttotal: 23.5s\tremaining: 4.12s\n",
            "1800:\tlearn: 0.8555178\ttest: 0.8358348\tbest: 0.8364543 (1794)\ttotal: 24.8s\tremaining: 2.74s\n",
            "1900:\tlearn: 0.8584398\ttest: 0.8388196\tbest: 0.8388196 (1900)\ttotal: 26.2s\tremaining: 1.36s\n",
            "1999:\tlearn: 0.8611710\ttest: 0.8407625\tbest: 0.8407625 (1996)\ttotal: 27.5s\tremaining: 0us\n",
            "bestTest = 0.8407625377\n",
            "bestIteration = 1996\n",
            "Shrink model to first 1997 iterations.\n",
            "📂 Fold 3\n",
            "0:\tlearn: 0.6402107\ttest: 0.6283632\tbest: 0.6283632 (0)\ttotal: 19.6ms\tremaining: 39.2s\n",
            "100:\tlearn: 0.7277944\ttest: 0.7032815\tbest: 0.7033378 (99)\ttotal: 1.44s\tremaining: 27s\n",
            "200:\tlearn: 0.7556488\ttest: 0.7273725\tbest: 0.7273725 (200)\ttotal: 2.8s\tremaining: 25.1s\n",
            "300:\tlearn: 0.7707258\ttest: 0.7455533\tbest: 0.7467072 (298)\ttotal: 4.15s\tremaining: 23.4s\n",
            "400:\tlearn: 0.7834406\ttest: 0.7624958\tbest: 0.7624958 (400)\ttotal: 5.56s\tremaining: 22.2s\n",
            "500:\tlearn: 0.7929549\ttest: 0.7731059\tbest: 0.7743161 (499)\ttotal: 6.92s\tremaining: 20.7s\n",
            "600:\tlearn: 0.8012239\ttest: 0.7804796\tbest: 0.7812676 (598)\ttotal: 8.29s\tremaining: 19.3s\n",
            "700:\tlearn: 0.8079975\ttest: 0.7899358\tbest: 0.7899358 (700)\ttotal: 9.66s\tremaining: 17.9s\n",
            "800:\tlearn: 0.8140264\ttest: 0.7959867\tbest: 0.7959867 (800)\ttotal: 11s\tremaining: 16.5s\n",
            "900:\tlearn: 0.8193639\ttest: 0.8015592\tbest: 0.8016154 (897)\ttotal: 12.4s\tremaining: 15.2s\n",
            "1000:\tlearn: 0.8249548\ttest: 0.8063436\tbest: 0.8064280 (999)\ttotal: 13.8s\tremaining: 13.8s\n",
            "1100:\tlearn: 0.8297729\ttest: 0.8100585\tbest: 0.8100585 (1099)\ttotal: 15.2s\tremaining: 12.4s\n",
            "1200:\tlearn: 0.8338683\ttest: 0.8140268\tbest: 0.8140268 (1199)\ttotal: 16.5s\tremaining: 11s\n",
            "1300:\tlearn: 0.8377792\ttest: 0.8166723\tbest: 0.8168974 (1298)\ttotal: 17.9s\tremaining: 9.6s\n",
            "1400:\tlearn: 0.8412676\ttest: 0.8197962\tbest: 0.8200214 (1393)\ttotal: 19.2s\tremaining: 8.22s\n",
            "1500:\tlearn: 0.8446778\ttest: 0.8225262\tbest: 0.8226950 (1487)\ttotal: 20.6s\tremaining: 6.84s\n",
            "1600:\tlearn: 0.8484354\ttest: 0.8256501\tbest: 0.8256783 (1598)\ttotal: 22s\tremaining: 5.47s\n",
            "1700:\tlearn: 0.8516829\ttest: 0.8275639\tbest: 0.8277609 (1698)\ttotal: 23.3s\tremaining: 4.1s\n",
            "1800:\tlearn: 0.8549085\ttest: 0.8305190\tbest: 0.8305190 (1800)\ttotal: 24.7s\tremaining: 2.73s\n",
            "1900:\tlearn: 0.8578776\ttest: 0.8330519\tbest: 0.8333052 (1898)\ttotal: 26s\tremaining: 1.35s\n",
            "1999:\tlearn: 0.8607654\ttest: 0.8347687\tbest: 0.8350220 (1996)\ttotal: 27.3s\tremaining: 0us\n",
            "bestTest = 0.835021952\n",
            "bestIteration = 1996\n",
            "Shrink model to first 1997 iterations.\n",
            "📂 Fold 4\n",
            "0:\tlearn: 0.6339534\ttest: 0.6271811\tbest: 0.6271811 (0)\ttotal: 20.8ms\tremaining: 41.6s\n",
            "100:\tlearn: 0.7279915\ttest: 0.7112743\tbest: 0.7112743 (100)\ttotal: 1.45s\tremaining: 27.2s\n",
            "200:\tlearn: 0.7554548\ttest: 0.7351964\tbest: 0.7351964 (200)\ttotal: 2.83s\tremaining: 25.3s\n",
            "300:\tlearn: 0.7712451\ttest: 0.7483114\tbest: 0.7485647 (299)\ttotal: 4.21s\tremaining: 23.8s\n",
            "400:\tlearn: 0.7843636\ttest: 0.7617078\tbest: 0.7617922 (399)\ttotal: 5.6s\tremaining: 22.3s\n",
            "500:\tlearn: 0.7937339\ttest: 0.7703760\tbest: 0.7703760 (499)\ttotal: 6.99s\tremaining: 20.9s\n",
            "600:\tlearn: 0.8016400\ttest: 0.7788191\tbest: 0.7790161 (598)\ttotal: 8.39s\tremaining: 19.5s\n",
            "700:\tlearn: 0.8084230\ttest: 0.7863897\tbest: 0.7865867 (699)\ttotal: 9.76s\tremaining: 18.1s\n",
            "800:\tlearn: 0.8145207\ttest: 0.7920747\tbest: 0.7920747 (800)\ttotal: 11.2s\tremaining: 16.7s\n",
            "900:\tlearn: 0.8205403\ttest: 0.7969717\tbest: 0.7973376 (881)\ttotal: 12.6s\tremaining: 15.3s\n",
            "1000:\tlearn: 0.8252645\ttest: 0.8008837\tbest: 0.8009119 (999)\ttotal: 14s\tremaining: 13.9s\n",
            "1100:\tlearn: 0.8300076\ttest: 0.8062873\tbest: 0.8064843 (1096)\ttotal: 15.3s\tremaining: 12.5s\n",
            "1200:\tlearn: 0.8347225\ttest: 0.8094394\tbest: 0.8095520 (1199)\ttotal: 16.7s\tremaining: 11.1s\n",
            "1300:\tlearn: 0.8387772\ttest: 0.8122256\tbest: 0.8122537 (1296)\ttotal: 18s\tremaining: 9.69s\n",
            "1400:\tlearn: 0.8424409\ttest: 0.8150681\tbest: 0.8150681 (1400)\ttotal: 19.4s\tremaining: 8.29s\n",
            "1500:\tlearn: 0.8461765\ttest: 0.8181921\tbest: 0.8183609 (1496)\ttotal: 20.7s\tremaining: 6.89s\n",
            "1600:\tlearn: 0.8496180\ttest: 0.8202465\tbest: 0.8203591 (1599)\ttotal: 22.1s\tremaining: 5.5s\n",
            "1700:\tlearn: 0.8528843\ttest: 0.8232579\tbest: 0.8232861 (1697)\ttotal: 23.4s\tremaining: 4.12s\n",
            "1800:\tlearn: 0.8563133\ttest: 0.8262130\tbest: 0.8262130 (1799)\ttotal: 24.8s\tremaining: 2.74s\n",
            "1900:\tlearn: 0.8592762\ttest: 0.8276202\tbest: 0.8278735 (1876)\ttotal: 26.1s\tremaining: 1.36s\n",
            "1999:\tlearn: 0.8621639\ttest: 0.8301250\tbest: 0.8304064 (1996)\ttotal: 27.4s\tremaining: 0us\n",
            "bestTest = 0.8304063942\n",
            "bestIteration = 1996\n",
            "Shrink model to first 1997 iterations.\n",
            "📂 Fold 5\n",
            "0:\tlearn: 0.6389611\ttest: 0.6361972\tbest: 0.6361972 (0)\ttotal: 18.9ms\tremaining: 37.8s\n",
            "100:\tlearn: 0.7268362\ttest: 0.7237194\tbest: 0.7237194 (100)\ttotal: 1.42s\tremaining: 26.8s\n",
            "200:\tlearn: 0.7554302\ttest: 0.7441638\tbest: 0.7441638 (200)\ttotal: 2.79s\tremaining: 25s\n",
            "300:\tlearn: 0.7720079\ttest: 0.7562727\tbest: 0.7562727 (300)\ttotal: 4.16s\tremaining: 23.5s\n",
            "400:\tlearn: 0.7840618\ttest: 0.7686351\tbest: 0.7687759 (399)\ttotal: 5.51s\tremaining: 22s\n",
            "500:\tlearn: 0.7934065\ttest: 0.7769987\tbest: 0.7769987 (500)\ttotal: 6.88s\tremaining: 20.6s\n",
            "600:\tlearn: 0.8011181\ttest: 0.7861508\tbest: 0.7861508 (600)\ttotal: 8.25s\tremaining: 19.2s\n",
            "700:\tlearn: 0.8079475\ttest: 0.7922052\tbest: 0.7922897 (698)\ttotal: 9.63s\tremaining: 17.8s\n",
            "800:\tlearn: 0.8147394\ttest: 0.7978091\tbest: 0.7978655 (799)\ttotal: 11s\tremaining: 16.5s\n",
            "900:\tlearn: 0.8205020\ttest: 0.8030469\tbest: 0.8030469 (900)\ttotal: 12.4s\tremaining: 15.1s\n",
            "1000:\tlearn: 0.8250914\ttest: 0.8068767\tbest: 0.8068767 (1000)\ttotal: 13.7s\tremaining: 13.7s\n",
            "1100:\tlearn: 0.8297966\ttest: 0.8100589\tbest: 0.8100870 (1095)\ttotal: 15.1s\tremaining: 12.3s\n",
            "1200:\tlearn: 0.8341639\ttest: 0.8138887\tbest: 0.8138887 (1200)\ttotal: 16.5s\tremaining: 11s\n",
            "1300:\tlearn: 0.8383780\ttest: 0.8172679\tbest: 0.8180282 (1283)\ttotal: 17.8s\tremaining: 9.57s\n",
            "1400:\tlearn: 0.8423448\ttest: 0.8193236\tbest: 0.8198305 (1396)\ttotal: 19.2s\tremaining: 8.2s\n",
            "1500:\tlearn: 0.8455703\ttest: 0.8231534\tbest: 0.8232660 (1492)\ttotal: 20.5s\tremaining: 6.82s\n",
            "1600:\tlearn: 0.8491805\ttest: 0.8263355\tbest: 0.8270113 (1595)\ttotal: 21.9s\tremaining: 5.45s\n",
            "1700:\tlearn: 0.8522964\ttest: 0.8305877\tbest: 0.8306722 (1694)\ttotal: 23.2s\tremaining: 4.08s\n",
            "1800:\tlearn: 0.8555938\ttest: 0.8330377\tbest: 0.8330940 (1797)\ttotal: 24.6s\tremaining: 2.72s\n",
            "1900:\tlearn: 0.8583062\ttest: 0.8364450\tbest: 0.8364450 (1900)\ttotal: 25.9s\tremaining: 1.35s\n",
            "1999:\tlearn: 0.8615535\ttest: 0.8387823\tbest: 0.8389513 (1995)\ttotal: 27.2s\tremaining: 0us\n",
            "bestTest = 0.8389513109\n",
            "bestIteration = 1995\n",
            "Shrink model to first 1996 iterations.\n",
            "📂 Fold 6\n",
            "0:\tlearn: 0.6350286\ttest: 0.6294106\tbest: 0.6294106 (0)\ttotal: 19.4ms\tremaining: 38.7s\n",
            "100:\tlearn: 0.7276370\ttest: 0.7219735\tbest: 0.7220580 (99)\ttotal: 1.41s\tremaining: 26.5s\n",
            "200:\tlearn: 0.7560622\ttest: 0.7461632\tbest: 0.7466419 (199)\ttotal: 2.77s\tremaining: 24.8s\n",
            "300:\tlearn: 0.7717075\ttest: 0.7612571\tbest: 0.7612571 (300)\ttotal: 4.16s\tremaining: 23.5s\n",
            "400:\tlearn: 0.7834361\ttest: 0.7709724\tbest: 0.7711132 (389)\ttotal: 5.51s\tremaining: 22s\n",
            "500:\tlearn: 0.7923178\ttest: 0.7794205\tbest: 0.7797302 (499)\ttotal: 6.88s\tremaining: 20.6s\n",
            "600:\tlearn: 0.8007834\ttest: 0.7871082\tbest: 0.7871082 (600)\ttotal: 8.25s\tremaining: 19.2s\n",
            "700:\tlearn: 0.8075940\ttest: 0.7941483\tbest: 0.7941483 (700)\ttotal: 9.65s\tremaining: 17.9s\n",
            "800:\tlearn: 0.8139729\ttest: 0.8006252\tbest: 0.8006533 (794)\ttotal: 11s\tremaining: 16.5s\n",
            "900:\tlearn: 0.8197699\ttest: 0.8048774\tbest: 0.8051590 (897)\ttotal: 12.4s\tremaining: 15.1s\n",
            "1000:\tlearn: 0.8244345\ttest: 0.8080032\tbest: 0.8081440 (989)\ttotal: 13.8s\tremaining: 13.7s\n",
            "1100:\tlearn: 0.8293461\ttest: 0.8126496\tbest: 0.8128467 (1097)\ttotal: 15.1s\tremaining: 12.3s\n",
            "1200:\tlearn: 0.8340638\ttest: 0.8173524\tbest: 0.8173524 (1200)\ttotal: 16.5s\tremaining: 11s\n",
            "1300:\tlearn: 0.8383123\ttest: 0.8207316\tbest: 0.8207598 (1299)\ttotal: 17.8s\tremaining: 9.57s\n",
            "1400:\tlearn: 0.8420977\ttest: 0.8231815\tbest: 0.8231815 (1400)\ttotal: 19.2s\tremaining: 8.2s\n",
            "1500:\tlearn: 0.8454170\ttest: 0.8257723\tbest: 0.8257723 (1491)\ttotal: 20.5s\tremaining: 6.82s\n",
            "1600:\tlearn: 0.8489396\ttest: 0.8285602\tbest: 0.8287291 (1595)\ttotal: 21.9s\tremaining: 5.46s\n",
            "1700:\tlearn: 0.8521275\ttest: 0.8308130\tbest: 0.8310946 (1678)\ttotal: 23.3s\tremaining: 4.09s\n",
            "1800:\tlearn: 0.8552998\ttest: 0.8346991\tbest: 0.8352060 (1799)\ttotal: 24.6s\tremaining: 2.72s\n",
            "1900:\tlearn: 0.8581122\ttest: 0.8362479\tbest: 0.8363324 (1898)\ttotal: 25.9s\tremaining: 1.35s\n",
            "1999:\tlearn: 0.8611312\ttest: 0.8384444\tbest: 0.8384444 (1978)\ttotal: 27.3s\tremaining: 0us\n",
            "bestTest = 0.8384444257\n",
            "bestIteration = 1978\n",
            "Shrink model to first 1979 iterations.\n",
            "📂 Fold 7\n",
            "0:\tlearn: 0.6355010\ttest: 0.6417448\tbest: 0.6417448 (0)\ttotal: 21.8ms\tremaining: 43.6s\n",
            "100:\tlearn: 0.7265327\ttest: 0.7206781\tbest: 0.7206781 (100)\ttotal: 1.43s\tremaining: 26.8s\n",
            "200:\tlearn: 0.7561623\ttest: 0.7399679\tbest: 0.7400524 (199)\ttotal: 2.76s\tremaining: 24.7s\n",
            "300:\tlearn: 0.7716481\ttest: 0.7572865\tbest: 0.7572865 (300)\ttotal: 4.12s\tremaining: 23.3s\n",
            "400:\tlearn: 0.7833892\ttest: 0.7693391\tbest: 0.7693954 (399)\ttotal: 5.48s\tremaining: 21.9s\n",
            "500:\tlearn: 0.7929685\ttest: 0.7787728\tbest: 0.7787728 (500)\ttotal: 6.85s\tremaining: 20.5s\n",
            "600:\tlearn: 0.8005863\ttest: 0.7872209\tbest: 0.7873335 (598)\ttotal: 8.23s\tremaining: 19.2s\n",
            "700:\tlearn: 0.8075439\ttest: 0.7923460\tbest: 0.7927966 (694)\ttotal: 9.64s\tremaining: 17.9s\n",
            "800:\tlearn: 0.8137915\ttest: 0.7976120\tbest: 0.7976965 (799)\ttotal: 11s\tremaining: 16.5s\n",
            "900:\tlearn: 0.8191349\ttest: 0.8030751\tbest: 0.8030751 (900)\ttotal: 12.4s\tremaining: 15.1s\n",
            "1000:\tlearn: 0.8242186\ttest: 0.8073555\tbest: 0.8073555 (1000)\ttotal: 13.7s\tremaining: 13.7s\n",
            "1100:\tlearn: 0.8290114\ttest: 0.8109881\tbest: 0.8110163 (1099)\ttotal: 15.1s\tremaining: 12.3s\n",
            "1200:\tlearn: 0.8335883\ttest: 0.8148743\tbest: 0.8152122 (1198)\ttotal: 16.4s\tremaining: 10.9s\n",
            "1300:\tlearn: 0.8377992\ttest: 0.8172397\tbest: 0.8182535 (1292)\ttotal: 17.8s\tremaining: 9.55s\n",
            "1400:\tlearn: 0.8416534\ttest: 0.8208161\tbest: 0.8209850 (1399)\ttotal: 19.1s\tremaining: 8.18s\n",
            "1500:\tlearn: 0.8450572\ttest: 0.8233505\tbest: 0.8238011 (1482)\ttotal: 20.5s\tremaining: 6.82s\n",
            "1600:\tlearn: 0.8487081\ttest: 0.8260821\tbest: 0.8261102 (1598)\ttotal: 21.9s\tremaining: 5.45s\n",
            "1700:\tlearn: 0.8524685\ttest: 0.8282222\tbest: 0.8285883 (1698)\ttotal: 23.2s\tremaining: 4.08s\n",
            "1800:\tlearn: 0.8553373\ttest: 0.8300245\tbest: 0.8301935 (1796)\ttotal: 24.5s\tremaining: 2.71s\n",
            "1900:\tlearn: 0.8582217\ttest: 0.8328687\tbest: 0.8328687 (1900)\ttotal: 25.9s\tremaining: 1.35s\n",
            "1999:\tlearn: 0.8610436\ttest: 0.8349525\tbest: 0.8349525 (1996)\ttotal: 27.2s\tremaining: 0us\n",
            "bestTest = 0.8349525499\n",
            "bestIteration = 1996\n",
            "Shrink model to first 1997 iterations.\n",
            "📂 Fold 8\n",
            "0:\tlearn: 0.6354917\ttest: 0.6340289\tbest: 0.6340289 (0)\ttotal: 19.1ms\tremaining: 38.3s\n",
            "100:\tlearn: 0.7272429\ttest: 0.7228746\tbest: 0.7228746 (100)\ttotal: 1.42s\tremaining: 26.7s\n",
            "200:\tlearn: 0.7558119\ttest: 0.7446707\tbest: 0.7446707 (200)\ttotal: 2.78s\tremaining: 24.9s\n",
            "300:\tlearn: 0.7728400\ttest: 0.7586100\tbest: 0.7586100 (300)\ttotal: 4.14s\tremaining: 23.4s\n",
            "400:\tlearn: 0.7847845\ttest: 0.7678747\tbest: 0.7686069 (397)\ttotal: 5.5s\tremaining: 21.9s\n",
            "500:\tlearn: 0.7934565\ttest: 0.7769142\tbest: 0.7769142 (500)\ttotal: 6.89s\tremaining: 20.6s\n",
            "600:\tlearn: 0.8009805\ttest: 0.7859255\tbest: 0.7859255 (600)\ttotal: 8.29s\tremaining: 19.3s\n",
            "700:\tlearn: 0.8082916\ttest: 0.7925995\tbest: 0.7925995 (700)\ttotal: 9.67s\tremaining: 17.9s\n",
            "800:\tlearn: 0.8146299\ttest: 0.7985413\tbest: 0.7985695 (798)\ttotal: 11s\tremaining: 16.5s\n",
            "900:\tlearn: 0.8200359\ttest: 0.8031877\tbest: 0.8035538 (893)\ttotal: 12.4s\tremaining: 15.1s\n",
            "1000:\tlearn: 0.8254168\ttest: 0.8071865\tbest: 0.8071865 (1000)\ttotal: 13.8s\tremaining: 13.7s\n",
            "1100:\tlearn: 0.8301595\ttest: 0.8107629\tbest: 0.8107629 (1100)\ttotal: 15.1s\tremaining: 12.4s\n",
            "1200:\tlearn: 0.8343642\ttest: 0.8158036\tbest: 0.8158036 (1200)\ttotal: 16.5s\tremaining: 11s\n",
            "1300:\tlearn: 0.8384968\ttest: 0.8183098\tbest: 0.8183380 (1288)\ttotal: 17.8s\tremaining: 9.59s\n",
            "1400:\tlearn: 0.8427234\ttest: 0.8218299\tbest: 0.8218862 (1398)\ttotal: 19.2s\tremaining: 8.21s\n",
            "1500:\tlearn: 0.8462022\ttest: 0.8244488\tbest: 0.8244488 (1500)\ttotal: 20.6s\tremaining: 6.84s\n",
            "1600:\tlearn: 0.8495121\ttest: 0.8267861\tbest: 0.8268705 (1598)\ttotal: 21.9s\tremaining: 5.46s\n",
            "1700:\tlearn: 0.8530473\ttest: 0.8294331\tbest: 0.8294331 (1700)\ttotal: 23.3s\tremaining: 4.09s\n",
            "1800:\tlearn: 0.8564323\ttest: 0.8310664\tbest: 0.8310946 (1796)\ttotal: 24.6s\tremaining: 2.72s\n",
            "1900:\tlearn: 0.8593699\ttest: 0.8338261\tbest: 0.8338261 (1898)\ttotal: 25.9s\tremaining: 1.35s\n",
            "1999:\tlearn: 0.8620791\ttest: 0.8353468\tbest: 0.8356002 (1981)\ttotal: 27.3s\tremaining: 0us\n",
            "bestTest = 0.8356002365\n",
            "bestIteration = 1981\n",
            "Shrink model to first 1982 iterations.\n",
            "📂 Fold 9\n",
            "0:\tlearn: 0.6441032\ttest: 0.6491890\tbest: 0.6491890 (0)\ttotal: 19.2ms\tremaining: 38.5s\n",
            "100:\tlearn: 0.7277019\ttest: 0.7272753\tbest: 0.7272753 (100)\ttotal: 1.42s\tremaining: 26.6s\n",
            "200:\tlearn: 0.7552324\ttest: 0.7460858\tbest: 0.7460858 (200)\ttotal: 2.75s\tremaining: 24.7s\n",
            "300:\tlearn: 0.7714034\ttest: 0.7603345\tbest: 0.7606161 (298)\ttotal: 4.12s\tremaining: 23.2s\n",
            "400:\tlearn: 0.7832946\ttest: 0.7692048\tbest: 0.7701622 (386)\ttotal: 5.5s\tremaining: 21.9s\n",
            "500:\tlearn: 0.7929272\ttest: 0.7794548\tbest: 0.7795112 (496)\ttotal: 6.92s\tremaining: 20.7s\n",
            "600:\tlearn: 0.8007953\ttest: 0.7857907\tbest: 0.7857907 (600)\ttotal: 8.29s\tremaining: 19.3s\n",
            "700:\tlearn: 0.8077874\ttest: 0.7938443\tbest: 0.7938443 (700)\ttotal: 9.67s\tremaining: 17.9s\n",
            "800:\tlearn: 0.8145042\ttest: 0.8007997\tbest: 0.8007997 (800)\ttotal: 11s\tremaining: 16.5s\n",
            "900:\tlearn: 0.8196129\ttest: 0.8074172\tbest: 0.8074454 (899)\ttotal: 12.4s\tremaining: 15.1s\n",
            "1000:\tlearn: 0.8248656\ttest: 0.8119509\tbest: 0.8120917 (993)\ttotal: 13.7s\tremaining: 13.7s\n",
            "1100:\tlearn: 0.8294050\ttest: 0.8148232\tbest: 0.8150203 (1093)\ttotal: 15.1s\tremaining: 12.3s\n",
            "1200:\tlearn: 0.8339444\ttest: 0.8185965\tbest: 0.8185965 (1198)\ttotal: 16.5s\tremaining: 11s\n",
            "1300:\tlearn: 0.8378268\ttest: 0.8218349\tbest: 0.8218912 (1299)\ttotal: 17.8s\tremaining: 9.59s\n",
            "1400:\tlearn: 0.8414559\ttest: 0.8247071\tbest: 0.8247071 (1400)\ttotal: 19.2s\tremaining: 8.21s\n",
            "1500:\tlearn: 0.8450192\ttest: 0.8267346\tbest: 0.8269881 (1497)\ttotal: 20.5s\tremaining: 6.83s\n",
            "1600:\tlearn: 0.8487295\ttest: 0.8305362\tbest: 0.8305362 (1600)\ttotal: 21.9s\tremaining: 5.46s\n",
            "1700:\tlearn: 0.8523836\ttest: 0.8323102\tbest: 0.8323384 (1689)\ttotal: 23.2s\tremaining: 4.09s\n",
            "1800:\tlearn: 0.8557310\ttest: 0.8345630\tbest: 0.8347038 (1794)\ttotal: 24.6s\tremaining: 2.72s\n",
            "1900:\tlearn: 0.8589033\ttest: 0.8369284\tbest: 0.8370410 (1896)\ttotal: 25.9s\tremaining: 1.35s\n",
            "1999:\tlearn: 0.8614530\ttest: 0.8388150\tbest: 0.8388432 (1998)\ttotal: 27.2s\tremaining: 0us\n",
            "bestTest = 0.8388432079\n",
            "bestIteration = 1998\n",
            "Shrink model to first 1999 iterations.\n",
            "📂 Fold 10\n",
            "0:\tlearn: 0.6431427\ttest: 0.6405722\tbest: 0.6405722 (0)\ttotal: 18.8ms\tremaining: 37.7s\n",
            "100:\tlearn: 0.7279866\ttest: 0.7178137\tbest: 0.7178137 (100)\ttotal: 1.41s\tremaining: 26.6s\n",
            "200:\tlearn: 0.7548569\ttest: 0.7402850\tbest: 0.7402850 (200)\ttotal: 2.76s\tremaining: 24.7s\n",
            "300:\tlearn: 0.7705524\ttest: 0.7549561\tbest: 0.7549561 (300)\ttotal: 4.11s\tremaining: 23.2s\n",
            "400:\tlearn: 0.7828003\ttest: 0.7681629\tbest: 0.7683318 (399)\ttotal: 5.52s\tremaining: 22s\n",
            "500:\tlearn: 0.7922358\ttest: 0.7753154\tbest: 0.7755125 (496)\ttotal: 6.88s\tremaining: 20.6s\n",
            "600:\tlearn: 0.8003322\ttest: 0.7839885\tbest: 0.7840167 (598)\ttotal: 8.24s\tremaining: 19.2s\n",
            "700:\tlearn: 0.8075121\ttest: 0.7909157\tbest: 0.7909157 (700)\ttotal: 9.6s\tremaining: 17.8s\n",
            "800:\tlearn: 0.8137565\ttest: 0.7986314\tbest: 0.7986314 (800)\ttotal: 11s\tremaining: 16.4s\n",
            "900:\tlearn: 0.8194096\ttest: 0.8017290\tbest: 0.8020669 (890)\ttotal: 12.3s\tremaining: 15s\n",
            "1000:\tlearn: 0.8245278\ttest: 0.8066569\tbest: 0.8066569 (1000)\ttotal: 13.7s\tremaining: 13.6s\n",
            "1100:\tlearn: 0.8291798\ttest: 0.8137531\tbest: 0.8137531 (1099)\ttotal: 15s\tremaining: 12.3s\n",
            "1200:\tlearn: 0.8335659\ttest: 0.8169351\tbest: 0.8169633 (1199)\ttotal: 16.4s\tremaining: 10.9s\n",
            "1300:\tlearn: 0.8377518\ttest: 0.8189063\tbest: 0.8190752 (1297)\ttotal: 17.8s\tremaining: 9.59s\n",
            "1400:\tlearn: 0.8417280\ttest: 0.8214970\tbest: 0.8219757 (1396)\ttotal: 19.2s\tremaining: 8.22s\n",
            "1500:\tlearn: 0.8456042\ttest: 0.8253267\tbest: 0.8253548 (1499)\ttotal: 20.6s\tremaining: 6.84s\n",
            "1600:\tlearn: 0.8489204\ttest: 0.8274668\tbest: 0.8276076 (1572)\ttotal: 21.9s\tremaining: 5.46s\n",
            "1700:\tlearn: 0.8522209\ttest: 0.8301701\tbest: 0.8306206 (1695)\ttotal: 23.2s\tremaining: 4.09s\n",
            "1800:\tlearn: 0.8556653\ttest: 0.8321694\tbest: 0.8323102 (1797)\ttotal: 24.6s\tremaining: 2.71s\n",
            "1900:\tlearn: 0.8585654\ttest: 0.8343940\tbest: 0.8344503 (1876)\ttotal: 25.9s\tremaining: 1.35s\n",
            "1999:\tlearn: 0.8614467\ttest: 0.8368720\tbest: 0.8370128 (1994)\ttotal: 27.2s\tremaining: 0us\n",
            "bestTest = 0.8370128407\n",
            "bestIteration = 1994\n",
            "Shrink model to first 1995 iterations.\n",
            "\n",
            "✅ A로 분류된 ID 수 = 25개\n",
            "🔎 A ID: ['TEST_03623', 'TEST_06685', 'TEST_08045', 'TEST_09694', 'TEST_23825', 'TEST_24893', 'TEST_25635', 'TEST_28024', 'TEST_37666', 'TEST_41053', 'TEST_42481', 'TEST_45995', 'TEST_51233', 'TEST_56681', 'TEST_62589', 'TEST_63296', 'TEST_73642', 'TEST_74584', 'TEST_75097', 'TEST_81971', 'TEST_88359', 'TEST_88823', 'TEST_90758', 'TEST_96614', 'TEST_99023']\n"
          ]
        }
      ]
    },
    {
      "cell_type": "markdown",
      "source": [
        "# target data(Segment) B 모델링\n"
      ],
      "metadata": {
        "id": "nwT6CFqrrhJQ"
      }
    },
    {
      "cell_type": "code",
      "source": [
        "train_B = train[train['Segment'] == 'B']\n",
        "\n",
        "cols_to_check = [col for col in train.columns if col not in ['ID', 'Segment']]\n",
        "\n",
        "def is_fixed_column(df, col):\n",
        "    return df[col].nunique() == 1\n",
        "\n",
        "fixed_columns_B = {col: train_B[col].iloc[0] for col in cols_to_check if is_fixed_column(train_B, col)}\n",
        "max_column_values = fixed_columns_B.copy()\n",
        "\n",
        "fixed_cols = list(max_column_values.keys())\n",
        "\n",
        "print(f\"📦 고정된 칼럼 {len(fixed_cols)}개 제거할 예정입니다.\")"
      ],
      "metadata": {
        "colab": {
          "base_uri": "https://localhost:8080/"
        },
        "id": "KBHX_LYKtpmA",
        "outputId": "ea5ac77a-c41f-4f05-ee74-6d79e7451b80"
      },
      "execution_count": null,
      "outputs": [
        {
          "output_type": "stream",
          "name": "stdout",
          "text": [
            "📦 고정된 칼럼 0개 제거할 예정입니다.\n"
          ]
        }
      ]
    },
    {
      "cell_type": "code",
      "source": [
        "matching_ids_train = train.copy()\n",
        "for col, value in max_column_values.items():\n",
        "    matching_ids_train = matching_ids_train[matching_ids_train[col] == value]\n",
        "\n",
        "matching_ids_train_grouped = matching_ids_train.groupby('ID').filter(lambda x: len(x) == 6)\n",
        "matching_ids_train_list = matching_ids_train_grouped['ID'].unique()\n",
        "\n",
        "matching_ids_test = test.copy()\n",
        "for col, value in max_column_values.items():\n",
        "    matching_ids_test = matching_ids_test[matching_ids_test[col] == value]\n",
        "\n",
        "matching_ids_test_grouped = matching_ids_test.groupby('ID').filter(lambda x: len(x) == 6)\n",
        "matching_ids_test_list = matching_ids_test_grouped['ID'].unique()\n",
        "\n",
        "train_filtered = train[train['ID'].isin(matching_ids_train_list)].drop(columns=fixed_cols)\n",
        "test_filtered = test[test['ID'].isin(matching_ids_test_list)].drop(columns=fixed_cols)\n",
        "\n",
        "print(f\"🚀 최종 train 데이터 shape: {train_filtered.shape}\")\n",
        "print(f\"🚀 최종 test 데이터 shape: {test_filtered.shape}\")"
      ],
      "metadata": {
        "colab": {
          "base_uri": "https://localhost:8080/"
        },
        "id": "Vo1RxvehrrLP",
        "outputId": "08d48fe8-b203-45bf-def2-7ae3d92bacee"
      },
      "execution_count": null,
      "outputs": [
        {
          "output_type": "stream",
          "name": "stdout",
          "text": [
            "🚀 최종 train 데이터 shape: (249594, 660)\n",
            "🚀 최종 test 데이터 shape: (62586, 659)\n"
          ]
        }
      ]
    },
    {
      "cell_type": "code",
      "source": [
        "label_encoder = LabelEncoder()\n",
        "train_filtered['Segment'] = label_encoder.fit_transform(train_filtered['Segment'])\n",
        "\n",
        "X = train_filtered.drop(columns=['Segment', 'ID'])\n",
        "y = train_filtered['Segment']\n",
        "X_test = test_filtered.drop(columns=['ID'])\n",
        "\n",
        "cat_features = [col for col in X.columns if X[col].dtype == 'object']\n",
        "for col in cat_features:\n",
        "    X[col] = X[col].astype(str)\n",
        "    X_test[col] = X_test[col].astype(str)\n",
        "\n",
        "params = {\n",
        "    'iterations': 1000,\n",
        "    'learning_rate': 0.03,\n",
        "    'depth': 8,\n",
        "    'loss_function': 'MultiClass',\n",
        "    'eval_metric': 'Accuracy',\n",
        "    'verbose': 100,\n",
        "    'random_seed': seed,\n",
        "    'task_type': 'GPU',\n",
        "    'class_weights': [10, 10, 1, 1, 1],\n",
        "}\n",
        "\n",
        "n_classes = 5\n",
        "kf = StratifiedKFold(n_splits=5, shuffle=True, random_state=seed)\n",
        "\n",
        "print(f\"\\n🚀 단일 Model Run 시작\")\n",
        "\n",
        "all_test_probs = np.zeros((X_test.shape[0], n_classes))\n",
        "\n",
        "for fold, (train_idx, valid_idx) in enumerate(kf.split(X, y)):\n",
        "    print(f\"📂 Fold {fold + 1}\")\n",
        "\n",
        "    X_train_fold, X_valid_fold = X.iloc[train_idx], X.iloc[valid_idx]\n",
        "    y_train_fold, y_valid_fold = y.iloc[train_idx], y.iloc[valid_idx]\n",
        "\n",
        "    model = CatBoostClassifier(**params)\n",
        "    model.fit(\n",
        "        X_train_fold, y_train_fold,\n",
        "        eval_set=(X_valid_fold, y_valid_fold),\n",
        "        cat_features=cat_features,\n",
        "        early_stopping_rounds=100,\n",
        "        use_best_model=True\n",
        "    )\n",
        "\n",
        "    test_probs = model.predict_proba(X_test)\n",
        "    all_test_probs += test_probs\n",
        "\n",
        "    # 변수 중요도 파악을 위한 수집\n",
        "    importances = model.get_feature_importance()\n",
        "    importances_list.append(importances)\n",
        "\n",
        "# 변수 중요도 파악\n",
        "mean_importances = np.mean(importances_list, axis=0)\n",
        "feature_names = X.columns\n",
        "importance_df = pd.DataFrame({'Feature': feature_names, 'Importance': mean_importances})\n",
        "importance_df = importance_df.sort_values(by='Importance', ascending=False)\n",
        "\n",
        "# 시각화\n",
        "plt.figure(figsize=(10, 8))\n",
        "sns.barplot(data=importance_df.head(20), x='Importance', y='Feature', palette='magma')\n",
        "plt.title(\"Average Feature Importances (Across 10 Folds)\")\n",
        "plt.tight_layout()\n",
        "plt.show()\n",
        "\n",
        "avg_test_probs = all_test_probs / kf.get_n_splits()\n",
        "prob_df = pd.DataFrame(avg_test_probs, columns=[0, 1, 2, 3, 4])\n",
        "prob_df['ID'] = test['ID'].values\n",
        "\n",
        "mean_probs = prob_df.groupby('ID').mean().reset_index()\n",
        "mean_probs['Segment'] = mean_probs[[0, 1, 2, 3, 4]].idxmax(axis=1)\n",
        "\n",
        "segment_mapping = {0: 'A', 1: 'B', 2: 'C', 3: 'D', 4: 'E'}\n",
        "mean_probs['Segment'] = mean_probs['Segment'].map(segment_mapping)\n",
        "\n",
        "b_ids = mean_probs.loc[mean_probs['Segment'] == 'B', 'ID'].tolist()\n",
        "\n",
        "print(f\"\\n✅ B로 분류된 ID 수 = {len(b_ids)}개\")\n",
        "print(f\"🔎 B ID: {b_ids[:5]}\")"
      ],
      "metadata": {
        "colab": {
          "base_uri": "https://localhost:8080/"
        },
        "id": "sWTpqFjEuJML",
        "outputId": "3c2aa525-b2e4-44c1-918f-3ae1d052a5b0"
      },
      "execution_count": null,
      "outputs": [
        {
          "output_type": "stream",
          "name": "stdout",
          "text": [
            "\n",
            "🚀 단일 Model Run 시작\n",
            "📂 Fold 1\n",
            "0:\tlearn: 0.6403313\ttest: 0.6403693\tbest: 0.6403693 (0)\ttotal: 34.1ms\tremaining: 34s\n",
            "100:\tlearn: 0.7104909\ttest: 0.7047860\tbest: 0.7047860 (100)\ttotal: 2.71s\tremaining: 24.1s\n",
            "200:\tlearn: 0.7352619\ttest: 0.7276845\tbest: 0.7276845 (200)\ttotal: 5.28s\tremaining: 21s\n",
            "300:\tlearn: 0.7522417\ttest: 0.7440682\tbest: 0.7440682 (300)\ttotal: 7.92s\tremaining: 18.4s\n",
            "400:\tlearn: 0.7658679\ttest: 0.7539369\tbest: 0.7539369 (400)\ttotal: 10.5s\tremaining: 15.7s\n",
            "500:\tlearn: 0.7760202\ttest: 0.7623600\tbest: 0.7623986 (499)\ttotal: 13.1s\tremaining: 13.1s\n",
            "600:\tlearn: 0.7851461\ttest: 0.7711301\tbest: 0.7711301 (600)\ttotal: 15.7s\tremaining: 10.5s\n",
            "700:\tlearn: 0.7933179\ttest: 0.7781269\tbest: 0.7781269 (695)\ttotal: 18.4s\tremaining: 7.83s\n",
            "800:\tlearn: 0.8013694\ttest: 0.7853549\tbest: 0.7853549 (800)\ttotal: 21s\tremaining: 5.22s\n",
            "900:\tlearn: 0.8083608\ttest: 0.7916771\tbest: 0.7917928 (899)\ttotal: 23.6s\tremaining: 2.6s\n",
            "999:\tlearn: 0.8152269\ttest: 0.7976330\tbest: 0.7976330 (999)\ttotal: 26.3s\tremaining: 0us\n",
            "bestTest = 0.7976330449\n",
            "bestIteration = 999\n",
            "📂 Fold 2\n",
            "0:\tlearn: 0.6430874\ttest: 0.6347410\tbest: 0.6347410 (0)\ttotal: 32.9ms\tremaining: 32.8s\n",
            "100:\tlearn: 0.7108620\ttest: 0.6988493\tbest: 0.6988493 (100)\ttotal: 2.71s\tremaining: 24.1s\n",
            "200:\tlearn: 0.7368279\ttest: 0.7218249\tbest: 0.7218249 (200)\ttotal: 5.31s\tremaining: 21.1s\n",
            "300:\tlearn: 0.7525019\ttest: 0.7351053\tbest: 0.7351053 (300)\ttotal: 7.91s\tremaining: 18.4s\n",
            "400:\tlearn: 0.7661619\ttest: 0.7469594\tbest: 0.7469787 (399)\ttotal: 10.5s\tremaining: 15.7s\n",
            "500:\tlearn: 0.7767477\ttest: 0.7559800\tbest: 0.7559800 (500)\ttotal: 13.1s\tremaining: 13.1s\n",
            "600:\tlearn: 0.7862832\ttest: 0.7630732\tbest: 0.7632467 (597)\ttotal: 15.7s\tremaining: 10.4s\n",
            "700:\tlearn: 0.7948454\ttest: 0.7713036\tbest: 0.7713807 (698)\ttotal: 18.4s\tremaining: 7.85s\n",
            "800:\tlearn: 0.8034653\ttest: 0.7789750\tbest: 0.7789750 (800)\ttotal: 21.1s\tremaining: 5.24s\n",
            "900:\tlearn: 0.8106446\ttest: 0.7856055\tbest: 0.7856055 (900)\ttotal: 23.7s\tremaining: 2.61s\n",
            "999:\tlearn: 0.8168458\ttest: 0.7908290\tbest: 0.7908290 (999)\ttotal: 26.4s\tremaining: 0us\n",
            "bestTest = 0.7908290125\n",
            "bestIteration = 999\n",
            "📂 Fold 3\n",
            "0:\tlearn: 0.6453655\ttest: 0.6447678\tbest: 0.6447678 (0)\ttotal: 33.8ms\tremaining: 33.8s\n",
            "100:\tlearn: 0.7098375\ttest: 0.7042590\tbest: 0.7042590 (100)\ttotal: 2.74s\tremaining: 24.4s\n",
            "200:\tlearn: 0.7341085\ttest: 0.7269031\tbest: 0.7269031 (200)\ttotal: 5.32s\tremaining: 21.2s\n",
            "300:\tlearn: 0.7522117\ttest: 0.7426865\tbest: 0.7426865 (300)\ttotal: 7.97s\tremaining: 18.5s\n",
            "400:\tlearn: 0.7652266\ttest: 0.7534785\tbest: 0.7534785 (400)\ttotal: 10.6s\tremaining: 15.9s\n",
            "500:\tlearn: 0.7760731\ttest: 0.7634612\tbest: 0.7634612 (500)\ttotal: 13.3s\tremaining: 13.2s\n",
            "600:\tlearn: 0.7857824\ttest: 0.7711891\tbest: 0.7711891 (600)\ttotal: 15.9s\tremaining: 10.5s\n",
            "700:\tlearn: 0.7944124\ttest: 0.7779919\tbest: 0.7779919 (700)\ttotal: 18.5s\tremaining: 7.9s\n",
            "800:\tlearn: 0.8020546\ttest: 0.7850453\tbest: 0.7850838 (795)\ttotal: 21.2s\tremaining: 5.28s\n",
            "900:\tlearn: 0.8093933\ttest: 0.7902486\tbest: 0.7902486 (899)\ttotal: 23.9s\tremaining: 2.63s\n",
            "999:\tlearn: 0.8161826\ttest: 0.7953556\tbest: 0.7953748 (996)\ttotal: 26.6s\tremaining: 0us\n",
            "bestTest = 0.7953748314\n",
            "bestIteration = 996\n",
            "Shrink model to first 997 iterations.\n",
            "📂 Fold 4\n",
            "0:\tlearn: 0.6426334\ttest: 0.6450954\tbest: 0.6450954 (0)\ttotal: 33.3ms\tremaining: 33.3s\n",
            "100:\tlearn: 0.7094087\ttest: 0.7075159\tbest: 0.7075159 (100)\ttotal: 2.75s\tremaining: 24.5s\n",
            "200:\tlearn: 0.7345855\ttest: 0.7307959\tbest: 0.7307959 (200)\ttotal: 5.35s\tremaining: 21.3s\n",
            "300:\tlearn: 0.7523177\ttest: 0.7436693\tbest: 0.7436693 (300)\ttotal: 8s\tremaining: 18.6s\n",
            "400:\tlearn: 0.7654241\ttest: 0.7551166\tbest: 0.7551166 (399)\ttotal: 10.6s\tremaining: 15.9s\n",
            "500:\tlearn: 0.7761743\ttest: 0.7641357\tbest: 0.7641357 (499)\ttotal: 13.3s\tremaining: 13.3s\n",
            "600:\tlearn: 0.7851898\ttest: 0.7714589\tbest: 0.7715745 (598)\ttotal: 16s\tremaining: 10.6s\n",
            "700:\tlearn: 0.7937908\ttest: 0.7785508\tbest: 0.7785893 (698)\ttotal: 18.6s\tremaining: 7.95s\n",
            "800:\tlearn: 0.8020450\ttest: 0.7862401\tbest: 0.7862594 (799)\ttotal: 21.3s\tremaining: 5.29s\n",
            "900:\tlearn: 0.8088680\ttest: 0.7916554\tbest: 0.7916554 (900)\ttotal: 24s\tremaining: 2.63s\n",
            "999:\tlearn: 0.8159850\ttest: 0.7966275\tbest: 0.7966275 (999)\ttotal: 26.6s\tremaining: 0us\n",
            "bestTest = 0.7966274812\n",
            "bestIteration = 999\n",
            "📂 Fold 5\n",
            "0:\tlearn: 0.6433156\ttest: 0.6424056\tbest: 0.6424056 (0)\ttotal: 33ms\tremaining: 33s\n",
            "100:\tlearn: 0.7092540\ttest: 0.7091943\tbest: 0.7092521 (99)\ttotal: 2.78s\tremaining: 24.8s\n",
            "200:\tlearn: 0.7342562\ttest: 0.7318042\tbest: 0.7318042 (200)\ttotal: 5.36s\tremaining: 21.3s\n",
            "300:\tlearn: 0.7519345\ttest: 0.7459136\tbest: 0.7461449 (298)\ttotal: 7.98s\tremaining: 18.5s\n",
            "400:\tlearn: 0.7643995\ttest: 0.7566692\tbest: 0.7567656 (399)\ttotal: 10.6s\tremaining: 15.8s\n",
            "500:\tlearn: 0.7753081\ttest: 0.7661141\tbest: 0.7662105 (498)\ttotal: 13.3s\tremaining: 13.2s\n",
            "600:\tlearn: 0.7848628\ttest: 0.7751349\tbest: 0.7751349 (600)\ttotal: 15.9s\tremaining: 10.6s\n",
            "700:\tlearn: 0.7930009\ttest: 0.7808404\tbest: 0.7808597 (699)\ttotal: 18.5s\tremaining: 7.91s\n",
            "800:\tlearn: 0.8013607\ttest: 0.7873554\tbest: 0.7873554 (800)\ttotal: 21.2s\tremaining: 5.27s\n",
            "900:\tlearn: 0.8088676\ttest: 0.7941018\tbest: 0.7941789 (899)\ttotal: 23.9s\tremaining: 2.62s\n",
            "999:\tlearn: 0.8155410\ttest: 0.8000000\tbest: 0.8000578 (995)\ttotal: 26.6s\tremaining: 0us\n",
            "bestTest = 0.8000578258\n",
            "bestIteration = 995\n",
            "Shrink model to first 996 iterations.\n",
            "\n",
            "✅ B로 분류된 ID 수 = 0개\n",
            "🔎 B ID: []\n"
          ]
        }
      ]
    },
    {
      "cell_type": "markdown",
      "source": [
        "# combine probs, generate submisson.csv"
      ],
      "metadata": {
        "id": "L4Q6-x8j6c2-"
      }
    },
    {
      "cell_type": "code",
      "source": [
        "base_df = pd.read_csv('base_catboost_kfold.csv')\n",
        "\n",
        "base_df.loc[base_df['ID'].isin(a_ids), 'Segment'] = 'A'\n",
        "base_df.loc[base_df['ID'].isin(b_ids), 'Segment'] = 'B'\n",
        "\n",
        "base_df.to_csv('final_catboost.csv', index=False)\n",
        "\n",
        "print(f\"✅ Segment가 'A'로 수정된 {len(a_ids)}개 ID 반영 완료\")\n",
        "print(f\"✅ Segment가 'B'로 수정된 {len(b_ids)}개 ID 반영 완료\")\n",
        "print(\"🎯 최종 결과 저장 완료: final_catboost.csv\")"
      ],
      "metadata": {
        "colab": {
          "base_uri": "https://localhost:8080/"
        },
        "id": "RELByj-fumZm",
        "outputId": "6cbaa9ce-dca2-42f0-ee60-a684d2d114fe"
      },
      "execution_count": null,
      "outputs": [
        {
          "output_type": "stream",
          "name": "stdout",
          "text": [
            "✅ Segment가 'A'로 수정된 25개 ID 반영 완료\n",
            "✅ Segment가 'B'로 수정된 0개 ID 반영 완료\n",
            "🎯 최종 결과 저장 완료: final_catboost.csv\n"
          ]
        }
      ]
    }
  ]
}