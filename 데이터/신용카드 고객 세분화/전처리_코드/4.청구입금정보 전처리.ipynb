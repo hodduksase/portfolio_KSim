{
 "cells": [
  {
   "cell_type": "markdown",
   "id": "6124e895",
   "metadata": {},
   "source": [
    "# 1. 청구입금정보 파일 병합 및 1차 전처리"
   ]
  },
  {
   "cell_type": "code",
   "execution_count": null,
   "id": "fe0634e8",
   "metadata": {},
   "outputs": [],
   "source": [
    "import os\n",
    "import gc\n",
    "import pandas as pd\n",
    "\n",
    "os.chdir('C:/Users/Money/Documents/final_project')\n",
    "\n",
    "# df21 = pd.read_parquet('train/4.청구입금정보/201807_train_청구입금정보.parquet')\n",
    "# df22 = pd.read_parquet('train/4.청구입금정보/201808_train_청구입금정보.parquet')\n",
    "# df23 = pd.read_parquet('train/4.청구입금정보/201809_train_청구입금정보.parquet')\n",
    "# df24 = pd.read_parquet('train/4.청구입금정보/201810_train_청구입금정보.parquet')\n",
    "# df25 = pd.read_parquet('train/4.청구입금정보/201811_train_청구입금정보.parquet')\n",
    "# df26 = pd.read_parquet('train/4.청구입금정보/201812_train_청구입금정보.parquet')\n",
    "\n",
    "# df21 = pd.read_parquet('test/4.청구입금정보/201807_test_청구입금정보.parquet')\n",
    "# df22 = pd.read_parquet('test/4.청구입금정보/201808_test_청구입금정보.parquet')\n",
    "# df23 = pd.read_parquet('test/4.청구입금정보/201809_test_청구입금정보.parquet')\n",
    "# df24 = pd.read_parquet('test/4.청구입금정보/201810_test_청구입금정보.parquet')\n",
    "# df25 = pd.read_parquet('test/4.청구입금정보/201811_test_청구입금정보.parquet')\n",
    "# df26 = pd.read_parquet('test/4.청구입금정보/201812_test_청구입금정보.parquet')\n",
    "\n",
    "df1 = pd.concat([df21,df22,df23,df24,df25,df26])\n",
    "\n",
    "del df21\n",
    "del df22\n",
    "del df23\n",
    "del df24\n",
    "del df25\n",
    "del df26\n",
    "gc.collect()\n",
    "\n",
    "df1.to_parquet(\"4.청구입금정보_train.parquet\")\n",
    "df1.to_parquet(\"4.청구입금정보_test.parquet\")"
   ]
  },
  {
   "cell_type": "code",
   "execution_count": null,
   "id": "8c9aad13",
   "metadata": {},
   "outputs": [],
   "source": [
    "# df2 = pd.read_parquet(('4.청구입금정보_train.parquet'))\n",
    "# df2 = pd.read_parquet(('4.청구입금정보_test.parquet'))"
   ]
  },
  {
   "cell_type": "code",
   "execution_count": 2,
   "id": "0c6b9a44",
   "metadata": {},
   "outputs": [],
   "source": [
    "df2.drop('대표결제방법코드', axis=1, inplace=True)"
   ]
  },
  {
   "cell_type": "code",
   "execution_count": 3,
   "id": "ecc706ea",
   "metadata": {},
   "outputs": [
    {
     "name": "stdout",
     "output_type": "stream",
     "text": [
      "기준년월                 int64\n",
      "ID                  object\n",
      "대표결제일                int64\n",
      "대표청구지고객주소구분코드       object\n",
      "대표청구서수령지구분코드        object\n",
      "청구서수령방법             object\n",
      "청구서발송여부_B0          object\n",
      "청구서발송여부_R3M         object\n",
      "청구서발송여부_R6M         object\n",
      "청구금액_B0              int64\n",
      "청구금액_R3M             int64\n",
      "청구금액_R6M             int64\n",
      "포인트_마일리지_건별_B0M      int64\n",
      "포인트_마일리지_건별_R3M      int64\n",
      "포인트_포인트_건별_B0M       int64\n",
      "포인트_포인트_건별_R3M       int64\n",
      "포인트_마일리지_월적립_B0M     int64\n",
      "포인트_마일리지_월적립_R3M     int64\n",
      "포인트_포인트_월적립_B0M      int64\n",
      "포인트_포인트_월적립_R3M      int64\n",
      "포인트_적립포인트_R12M       int64\n",
      "포인트_적립포인트_R3M        int64\n",
      "포인트_이용포인트_R12M       int64\n",
      "포인트_이용포인트_R3M        int64\n",
      "포인트_잔여포인트_B0M        int64\n",
      "마일_적립포인트_R12M        int64\n",
      "마일_적립포인트_R3M         int64\n",
      "마일_이용포인트_R12M        int64\n",
      "마일_이용포인트_R3M         int64\n",
      "마일_잔여포인트_B0M         int64\n",
      "할인건수_R3M            object\n",
      "할인금액_R3M             int64\n",
      "할인건수_B0M            object\n",
      "할인금액_B0M             int64\n",
      "할인금액_청구서_R3M         int64\n",
      "할인금액_청구서_B0M         int64\n",
      "상환개월수_결제일_R6M        int64\n",
      "상환개월수_결제일_R3M        int64\n",
      "선결제건수_R6M            int64\n",
      "선결제건수_R3M            int64\n",
      "연체건수_R6M             int64\n",
      "연체건수_R3M             int64\n",
      "혜택수혜금액_R3M           int64\n",
      "포인트_마일리지_환산_B0M      int64\n",
      "혜택수혜금액               int64\n",
      "dtype: object\n"
     ]
    }
   ],
   "source": [
    "# object형으로 변환하고 싶은 컬럼 리스트\n",
    "columns_to_convert = ['청구서발송여부_B0', '청구서발송여부_R3M', '청구서발송여부_R6M']\n",
    "\n",
    "# 각 컬럼을 object형으로 변환\n",
    "df2[columns_to_convert] = df2[columns_to_convert].astype(str)\n",
    "\n",
    "# 확인\n",
    "print(df2.dtypes)\n"
   ]
  },
  {
   "cell_type": "code",
   "execution_count": 4,
   "id": "3808ef79",
   "metadata": {},
   "outputs": [
    {
     "name": "stdout",
     "output_type": "stream",
     "text": [
      "['ID', '대표청구지고객주소구분코드', '대표청구서수령지구분코드', '청구서수령방법', '청구서발송여부_B0', '청구서발송여부_R3M', '청구서발송여부_R6M', '할인건수_R3M', '할인건수_B0M']\n"
     ]
    }
   ],
   "source": [
    "# 결측처리 (범주형)\n",
    "# 범주형 데이터만 추출해 리스트에 넣음\n",
    "categorical_cols = df2.select_dtypes(include=['object']).columns.tolist()\n",
    "print(categorical_cols)"
   ]
  },
  {
   "cell_type": "code",
   "execution_count": 5,
   "id": "bd5cc2eb",
   "metadata": {},
   "outputs": [],
   "source": [
    "# 범주형 데이터 중 결측치가 존재하는 행만 재할당\n",
    "# categorical_with_na = [col for col in categorical_cols if df2[col].isnull().any()]\n",
    "# print(categorical_with_na)\n",
    "\n",
    "# 결측치 '기타'로 대체\n",
    "# df[categorical_with_na] = df[categorical_with_na].fillna('기타')"
   ]
  },
  {
   "cell_type": "code",
   "execution_count": 6,
   "id": "8fd5085b",
   "metadata": {},
   "outputs": [],
   "source": [
    "# 결측처리 (수치형)\n",
    "# 수치형 데이터(int, float)만 추출해 리스트에 넣음\n",
    "# numeric_cols = df2.select_dtypes(include=['number']).columns.tolist()\n",
    "# print(numeric_cols)\n",
    "# 수치형 데이터 중 결측치가 존재하는 행만 재할당\n",
    "# numeric_cols_na = [col for col in numeric_cols if df2[col].isnull().any()]\n",
    "# print(numeric_cols_na)\n",
    "# 결측치 각 행의 평균으로 대체\n",
    "# for col in numeric_cols_na:\n",
    "#     df1[col].fillna(df1[col].mean(), inplace=True)"
   ]
  },
  {
   "cell_type": "code",
   "execution_count": 7,
   "id": "e5b59b32",
   "metadata": {},
   "outputs": [],
   "source": [
    "# allowed_values = {0, '0', '0개'}\n",
    "\n",
    "# df_0_columns = df2.columns[\n",
    "#     df2.apply(lambda col: set(col.unique()).issubset(allowed_values))\n",
    "# ].tolist()\n",
    "# print(df_0_columns)"
   ]
  },
  {
   "cell_type": "code",
   "execution_count": 8,
   "id": "b5e2ad7c",
   "metadata": {},
   "outputs": [],
   "source": [
    "df2.to_parquet('4.청구입금정보_전처리완_test.parquet')"
   ]
  }
 ],
 "metadata": {
  "kernelspec": {
   "display_name": "Python (conda-base)",
   "language": "python",
   "name": "base"
  },
  "language_info": {
   "codemirror_mode": {
    "name": "ipython",
    "version": 3
   },
   "file_extension": ".py",
   "mimetype": "text/x-python",
   "name": "python",
   "nbconvert_exporter": "python",
   "pygments_lexer": "ipython3",
   "version": "3.11.4"
  }
 },
 "nbformat": 4,
 "nbformat_minor": 5
}
